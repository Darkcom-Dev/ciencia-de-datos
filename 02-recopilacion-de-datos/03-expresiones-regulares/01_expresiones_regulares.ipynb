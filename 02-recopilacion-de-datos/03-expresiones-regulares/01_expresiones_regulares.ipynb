{
 "cells": [
  {
   "cell_type": "markdown",
   "metadata": {},
   "source": [
    " \n",
    "<table>\n",
    "<tr>\n",
    "<th>Nota</th><th>Descripción</th>\n",
    "<tr>\n",
    "<td>\\A</td><td>restringe la coincidencia al inicio de la cadena</td>\n",
    "<tr>\n",
    "<td>\\Z</td><td>restringe la coincidencia al final de la cadena</td>\n",
    "<tr>\n",
    "<td>re.sub(r‘pat', r'replace', s)</td><td>buscar y reemplazar</td>\n",
    "<tr>\n",
    "<td>\\n</td><td>separador de líneas, los archivos estilo DOS necesitan atención especial</td>\n",
    "<tr>\n",
    "<td>metacharacter</td><td>caracteres con significado especial en RE</td>\n",
    "<tr>\n",
    "<td>^</td><td>restringe el partido al inicio de la línea</td>\n",
    "<tr>\n",
    "<td>$</td><td>restringe el partido al final de la línea</td>\n",
    "<tr>\n",
    "<td>re.MULTILINE or re.M</td><td>bandera para tratar la entrada como una cadena multilínea</td>\n",
    "<tr>\n",
    "<td>\\b</td><td>restringe la coincidencia al inicio/final de las palabras, caracteres de palabras: alfabetos, dígitos, guiones bajos</td>\n",
    "<tr>\n",
    "<td>\\B</td><td>coincide donde \\b no coincide</td>\n",
    "</table>\n"
   ]
  },
  {
   "cell_type": "markdown",
   "metadata": {},
   "source": [
    " <table>\n",
    " <tr>\n",
    " <th>Nota</th><th>Descripción</th>\n",
    " <tr>\n",
    " <td>|</td><td>múltiples RE combinados como condicional OR cada alternativa puede tener anclajes independientes</td>\n",
    " <tr>\n",
    " <td>`|.join(iterable)`</td><td>combinar programáticamente múltiples RE</td>\n",
    " <tr>\n",
    " <td>()</td><td>agrupar patrones</td>\n",
    " <tr>\n",
    " <td>a(b|c)d</td><td>Lo mismo que abd|acd</td>\n",
    " <tr>\n",
    " <td>Alternation precedence</td><td>\n",
    " <ul>\n",
    " <li> El patrón que coincide primero en la entrada tiene prioridad.\n",
    " <li>el desempate es de izquierda a derecha si los patrones tienen la misma ubicación inicial\n",
    "<li>solución robusta: clasifique las alternancias según la longitud, la más larga primero\n",
    "<li>*|*.join(ordenado(iterable, clave=len, reverso=Verdadero))\n",
    " </ul>\n",
    "\n",
    "\n",
    "\n",
    "</td>\n",
    " </table>\n"
   ]
  },
  {
   "cell_type": "markdown",
   "metadata": {},
   "source": [
    "## Ejemplos para practicar Expresiones regulares\n",
    "\n",
    "Aquí tienes algunos ejemplos de textos para que practiques expresiones regulares:\n",
    "Tienes dos formas de practicar.\n",
    "\n",
    "- importando re en python y ejecutando busquedas\n",
    "- abrir visual studio code \n",
    "    - presionar ctrl+f para buscar \n",
    "    - click al boton de expresiones regulares\n",
    "    - escribir en el cajon de busqueda las expresiones para probar\n",
    "\n",
    "1. **Direcciones de correo electrónico:**\n"
   ]
  },
  {
   "cell_type": "code",
   "execution_count": null,
   "metadata": {},
   "outputs": [],
   "source": [
    "import re\n",
    "\n",
    "correos = \"\"\" \n",
    "usuario@example.com\n",
    "user123@gmail.com\n",
    "john.doe123@yahoo.co.uk\n",
    "info@domain123.org\n",
    "\"\"\""
   ]
  },
  {
   "cell_type": "markdown",
   "metadata": {},
   "source": [
    "\n",
    "2. **Números de teléfono:**\n"
   ]
  },
  {
   "cell_type": "code",
   "execution_count": null,
   "metadata": {},
   "outputs": [],
   "source": [
    "telefonos = \"\"\"\n",
    "   +1234567890\n",
    "   (123) 456-7890\n",
    "   555-1234\n",
    "   9876543210\n",
    "   \"\"\"\n"
   ]
  },
  {
   "cell_type": "markdown",
   "metadata": {},
   "source": [
    "\n",
    "3. **URLs:**\n"
   ]
  },
  {
   "cell_type": "code",
   "execution_count": null,
   "metadata": {},
   "outputs": [],
   "source": [
    "urls=\"\"\"\n",
    "   https://www.example.com\n",
    "   http://subdomain.domain.com/page\n",
    "   www.test123.net\n",
    "   https://sub.subdomain.domain.org/path/page.html\n",
    "   \"\"\"\n"
   ]
  },
  {
   "cell_type": "markdown",
   "metadata": {},
   "source": [
    "\n",
    "4. **Fechas:**\n"
   ]
  },
  {
   "cell_type": "code",
   "execution_count": null,
   "metadata": {},
   "outputs": [],
   "source": [
    "fechas=\"\"\"   \n",
    "   2024-04-19\n",
    "   12/31/2023\n",
    "   01-01-22\n",
    "   Feb 14, 2025\n",
    "   \"\"\"\n"
   ]
  },
  {
   "cell_type": "markdown",
   "metadata": {},
   "source": [
    "\n",
    "5. **Direcciones postales:**\n"
   ]
  },
  {
   "cell_type": "code",
   "execution_count": null,
   "metadata": {},
   "outputs": [],
   "source": [
    "direcciones=\"\"\"\n",
    "   123 Main St, City, State, Zip\n",
    "   P.O. Box 456, Town, PostalCode\n",
    "   987 Elm Avenue, Municipality, Postcode\n",
    "   \"\"\"\n"
   ]
  },
  {
   "cell_type": "markdown",
   "metadata": {},
   "source": [
    "\n",
    "6. **Cadenas de texto con formato específico:**\n"
   ]
  },
  {
   "cell_type": "code",
   "execution_count": null,
   "metadata": {},
   "outputs": [],
   "source": [
    "cadenas_formato = \"\"\"\n",
    "   ID: 12345\n",
    "   Username: user123\n",
    "   Producto: ABC123\n",
    "   Código: XYZ-987\n",
    "\"\"\""
   ]
  },
  {
   "cell_type": "markdown",
   "metadata": {},
   "source": [
    "\n",
    "7. **Palabras clave en un texto:**\n"
   ]
  },
  {
   "cell_type": "code",
   "execution_count": null,
   "metadata": {},
   "outputs": [],
   "source": [
    "keywords = \"\"\"\n",
    "   El gato está sobre la mesa.\n",
    "   La casa es grande y bonita.\n",
    "   El carro azul está en el garaje.\n",
    "   Me gusta comer pizza.\n",
    "   \"\"\"\n"
   ]
  },
  {
   "cell_type": "markdown",
   "metadata": {},
   "source": [
    "\n",
    "8. **Listas de compras:**\n"
   ]
  },
  {
   "cell_type": "code",
   "execution_count": null,
   "metadata": {},
   "outputs": [],
   "source": [
    "buy_list = \"\"\"\n",
    "   - Leche\n",
    "   - Pan\n",
    "   - Huevos\n",
    "   - Queso\n",
    "\"\"\""
   ]
  },
  {
   "cell_type": "markdown",
   "metadata": {},
   "source": [
    "\n",
    "9.  **Texto con formato HTML:**\n"
   ]
  },
  {
   "cell_type": "code",
   "execution_count": null,
   "metadata": {},
   "outputs": [],
   "source": [
    "html=\"\"\"\n",
    "   <p>Este es un <strong>texto</strong> de ejemplo.</p>\n",
    "   <div class=\"container\">\n",
    "       <h1>Título</h1>\n",
    "       <p>Contenido del párrafo.</p>\n",
    "   </div>\n",
    "   <a href=\"https://www.example.com\">Enlace</a>\n",
    "   \"\"\""
   ]
  },
  {
   "cell_type": "markdown",
   "metadata": {},
   "source": [
    "\n",
    "Estos ejemplos deberían proporcionarte una variedad de patrones para practicar la creación de expresiones regulares. ¡Buena suerte!"
   ]
  },
  {
   "cell_type": "markdown",
   "metadata": {},
   "source": [
    "#### Coincidencias Basicas\n",
    "\n",
    "|Comodin|Descripción|Com Inverso|Descripción|\n",
    "|-------|-----------|-----------|-----------|\n",
    "|`.`      | - Cualquier Caracter, excepto nueva linea|||\n",
    "|`\\d`     | - Cualquier Digitos (0-9)|`\\D`| - No es un Digito (0-9)|\n",
    "|`\\w`     | - Caracter de Palabra (a-z, A-Z, 0-9, _)|`\\W`| - No es un Caracter de Palabra.|\n",
    "|`\\s`     | - Espacios de cualquier tipo. (espacio, tab, nueva linea)|`\\S`| - No es un Espacio, Tab o nueva linea.|\n",
    "\n",
    "#### Limites\n",
    "\n",
    "|Comodin|Descripción|Com Inverso|Descripción|\n",
    "|-------|-----------|-----------|-----------|\n",
    "|`\\b`     | - Limite de Palabra|`\\B`| - No es un Limite de Palabra|\n",
    "|`^`      | - Inicio de una cadena de texto|`$`| - Final de una cadena de texto|\n",
    "\n",
    "#### Cuantificadores:\n",
    "\n",
    "|Comodin|Descripción|\n",
    "|-------|-----------|\n",
    "|`*`      | - 0 o Más|\n",
    "|`+`      | - 1 o Más|\n",
    "|`?`      | - 0 o Uno|\n",
    "|`{3}`    | - Numero Exacto|\n",
    "|`{3,4}`  | - Rango de Numeros (Minimo, Maximo)|\n",
    "\n",
    "#### Conjuntos de Caracteres\n",
    "\n",
    "|Comodin|Descripción|Com Inverso|Descripción|\n",
    "|-------|-----------|-----------|-----------|\n",
    "|`[]`     | - Caracteres dentro de corchetes|`[^ ]`| - Caracteres fuera de corchetes|\n",
    "\n",
    "Grupos\n",
    "\n",
    "|Comodin|Descripción|\n",
    "|-------|-----------|\n",
    "|`( )`    | - Grupo|\n",
    "|`\\|`  | - Uno u otro|"
   ]
  },
  {
   "cell_type": "markdown",
   "metadata": {},
   "source": [
    "#### Anclas\n",
    "\n",
    "|Comodín|Descripción|Com Inverso|Descripción|\n",
    "|-------|-----------|-----------|-----------|\n",
    "|`^`     |Inicio de la cadena, o de línea en un patrón multi-línea|`$`|Fin de la cadena, o de línea en un patrón multi-línea|\n",
    "|`\\A`     |Inicio de la cadena|`\\Z`|Fin de la cadena|\n",
    "|`\\b`     |Límite de palabra|`\\B`|No límite de palabra|\n",
    "|`\\<`     |Inicio de palabra|`\\>`|Fin de palabra|\n",
    "\n",
    "\n",
    "#### Clases de Caracteres\n",
    "\n",
    "|Comodín|Descripción|Com Inverso|Descripción|\n",
    "|-------|-----------|-----------|-----------|\n",
    "|`\\c`   |Carácter de control|||\n",
    "|`\\s`   |Espacio en blanco |`\\S`   |No espacio en blanco |\n",
    "|`\\d`   |Dígito|`\\D`   |No dígito|\n",
    "|`\\w`   |Palabra|`\\W`   |No palabra|\n",
    "|`\\x`   |Dígito hexadecimal|||\n",
    "|`\\O`   |Dígito octal|||\n",
    "\n",
    "#### POSIX\n",
    "\n",
    "|Comodín|Descripción|\n",
    "|-------|-----------|\n",
    "|[:upper:] |  Letras en mayúscula|\n",
    "|[:lower:] |  Letras en minúscula|\n",
    "|[:alpha:] |  Todas las letras|\n",
    "|[:alnum:] |  Dígitos y letras|\n",
    "|[:digit:] |  Dígitos|\n",
    "|[:xdigit:] | Dígitos hexadecimales|\n",
    "|[:punct:] |  Puntuación|\n",
    "|[:blank:] |  Espacio y tabulación|\n",
    "|[:space:] |  Caracteres en blanco|\n",
    "|[:cntrl:] |  Caracteres de control|\n",
    "|[:graph:] |  Caracteres impresos|\n",
    "|[:print:] |  Caracteres impresos y espacios|\n",
    "|[:word:] |   Dígitos, letras y guión bajo|\n",
    "\n",
    "#### Afirmaciones\n",
    "\n",
    "|Comodín|Descripción|Com Inverso|Descripción|\n",
    "|-------|-----------|-----------|-----------|\n",
    "|`?=`           |Afirmación hacia adelante|`?!`|Afirmación negativa hacia adelante|\n",
    "|`?<=`          |Afirmación hacia atrás|`?!= o ?<!`|Afirmación negativa hacia atrás|\n",
    "|`?>`           |Expresión de subexpresión única|||\n",
    "|`?()`          |Condición [si entonces]|||\n",
    "|`?()\\|`        |Condición [si entonces, si no]|||\n",
    "|`?#`           |Comentario|||\n",
    "\n",
    "#### Cuantificadores\n",
    "\n",
    "|Comodín|Descripción|\n",
    "|-------|-----------|\n",
    "|* | 0 o más {3}     Exactamente 3\n",
    "|+ | 1 o más {3,}    3 o más\n",
    "|? | 0 o 1    {3,5}   3, 4 o 5\n",
    "\n",
    "> Agrega un ? a un cuantificador para que sea no codicioso.\n",
    "\n",
    "#### Secuencias de Escape\n",
    "\n",
    "|Comodín|Descripción|\n",
    "|-------|-----------|\n",
    "|\\      | Escapar del siguiente carácter|\n",
    "|\\Q     | Iniciar secuencia literal|\n",
    "|\\E     | Finalizar secuencia literal|\n",
    "\n",
    "> \"Escapar\" es una forma de tratar los caracteres que tienen un significado especial en expresiones regulares literalmente, en lugar de como caracteres especiales.\n",
    "\n",
    "Caracteres Especiales Comunes\n",
    "```\n",
    "^   [   .   $\n",
    "{   *   (   \\\n",
    "+   )   |   ?\n",
    "<   >\n",
    "El caracter de escape es generalmente \\\n",
    "```\n",
    "\n",
    "#### Caracteres Especiales\n",
    "\n",
    "|Comodín|Descripción|\n",
    "|-------|-----------|\n",
    "|`\\n  ` |Salto de línea|\n",
    "|`\\r  ` |Retorno de carro|\n",
    "|`\\t  ` |Tabulación|\n",
    "|`\\v  ` |Tabulación vertical|\n",
    "|`\\f  ` |Avance de página|\n",
    "|`\\xxx` |Carácter octal xxx|\n",
    "|`\\xhh` |Carácter hexadecimal hh|\n",
    "\n",
    "#### Grupos y Rangos\n",
    "\n",
    "|Comodín|Descripción|\n",
    "|-------|-----------|\n",
    "|`. Any  `|cualquier caracter excepto salto de línea (\\n)|\n",
    "|`(a|b)  `|a o b|\n",
    "|`(...)  `|Grupo|\n",
    "|`(?:...)`|Grupo pasivo (no capturador)|\n",
    "|`[abc]  `|Rango (a o b o c)|\n",
    "|`[^abc] `|No (a o b o c)|\n",
    "|`[a-q]  `|Letra minúscula de a a q|\n",
    "|`[A-Q]  `|Letra mayúscula de A a Q|\n",
    "|`[0-7]  `|Dígito de 0 a 7|\n",
    "|`\\x     `|Número de grupo/subpatrón \"x\"|\n",
    "\n",
    "> Los rangos son inclusivos.\n",
    "\n",
    "#### Modificadores de Patrón\n",
    "\n",
    "|Comodín|Descripción|\n",
    "|-------|-----------|\n",
    "|`g  `  |Coincidencia global|\n",
    "|`i *`  |Insensible a mayúsculas y minúsculas|\n",
    "|`m *`  |Múltiples líneas|\n",
    "|`s *`  |Tratar la cadena como una sola línea|\n",
    "|`x *`  |Permitir comentarios y espacios en blanco en el patrón|\n",
    "|`e *`  |Evaluar reemplazo|\n",
    "|`U *`  |Patrón no codicioso|\n",
    "\n",
    "> * Modificador PCRE\n",
    "\n",
    "#### Reemplazo de Cadenas\n",
    "\n",
    "|Comodín|Descripción|\n",
    "|-------|-----------|\n",
    "|`$n`   |n-ésimo grupo no pasivo|\n",
    "|`$2`   |\"xyz\" en /^(abc(xy​z))$/|\n",
    "|`$1`   |\"xyz\" en /^(?:abc)(xyz)$/|\n",
    "|`$'`   |Antes de la cadena coincidente|\n",
    "|`$'`   |Después de la cadena coincidente|\n",
    "|`$+`   |Última cadena coincidente|\n",
    "|`$&`   |Cadena coincidente completa|\n",
    "\n",
    "> Algunas implementaciones de regex utilizan \\ en lugar de $."
   ]
  },
  {
   "cell_type": "code",
   "execution_count": null,
   "metadata": {},
   "outputs": [],
   "source": [
    "import re\n",
    "\n",
    "texto = '''Hola Mundo.\n",
    "Me gusta Python!!!!!\n",
    "Mi primer numero de la suerte es 987-654-321\n",
    "Mi segundo numero de la suerte es 876-543-210\n",
    "Mi tercero numero de la suerte es 765-432-100\n",
    "Mi cuarto numero de la suerte es 123-456-123-123-456\n",
    "'''\n",
    "\n",
    "# buscar el primer emparejamiento\n",
    "print(re.search(r'\\d', texto))\n",
    "# flags\n",
    "print(re.search(r'^hola', texto, flags=re.I)) #ignorar minuscula/mayuscula\n",
    "\n",
    "# buscar todos los emparejamientos\n",
    "print(re.findall(r'\\d', texto))\n",
    "\n",
    "# Casos comunes\n",
    "# 1 Encontrar puntuación dentro de la variable texto creada al inicio\n",
    "\n",
    "\n",
    "# 2 Validar una fecha\n",
    "texto = '''\n",
    "13-04-2021\n",
    "2021-13-04\n",
    "2021-04-13\n",
    "'''\n",
    "\n",
    "\n",
    "# 3 Validar un usuario\n",
    "# condiciones: entre 4-14 caracteres y solo numeros o letras\n",
    "\n",
    "texto = '''\n",
    "usuario10\n",
    "abc\n",
    "10\n",
    "'''\n",
    "\n",
    "\n",
    "\n"
   ]
  }
 ],
 "metadata": {
  "language_info": {
   "name": "python"
  }
 },
 "nbformat": 4,
 "nbformat_minor": 2
}
