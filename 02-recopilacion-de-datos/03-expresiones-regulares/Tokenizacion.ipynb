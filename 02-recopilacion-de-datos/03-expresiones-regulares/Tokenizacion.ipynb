{
 "cells": [
  {
   "cell_type": "markdown",
   "metadata": {},
   "source": [
    "# Tokenización"
   ]
  },
  {
   "cell_type": "markdown",
   "metadata": {},
   "source": [
    "`N = 1 :[This][is][a][sentence] unigramas ['This','is','a','sentence']`\n",
    "\n",
    "`N = 2 :[This is][is a][a sentence] bigramas ['This is','is a','a sentence']`\n",
    "\n",
    "`N = 3 :[This is a][is a sentence] trigramas ['This is a','is a sentence']`"
   ]
  }
 ],
 "metadata": {
  "language_info": {
   "name": "python"
  }
 },
 "nbformat": 4,
 "nbformat_minor": 2
}
