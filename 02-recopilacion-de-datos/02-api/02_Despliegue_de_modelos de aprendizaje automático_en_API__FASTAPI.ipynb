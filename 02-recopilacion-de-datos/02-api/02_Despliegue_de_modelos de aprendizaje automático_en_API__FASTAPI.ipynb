{
 "cells": [
  {
   "cell_type": "markdown",
   "metadata": {},
   "source": [
    "# Despliegue de modelos de aprendizaje automático en API con FASTAPI\n",
    "\n",
    "## Indice\n",
    "- [Poner en producción](#poner-en-producción)\n",
    "- [¿Qué es una API?](#qué-es-una-api)\n",
    "- [¿Qué es FastAPI?](#¿qué-es-fastapi)\n",
    "- [Caracteristicas](#características)\n",
    "  - [Sintaxis simple](#sintaxis-simple)\n",
    "  - [Definir rutas](#definir-rutas)\n",
    "  - [Parametros de ruta y de consulta](#parámetros-de-ruta-y-de-consulta)\n",
    "  - [Solicitudes asíncronas](#solicitudes-asincrónicas)\n",
    "  - [Escritura con Pydantic](#escritura-con-pydantic)\n",
    "  - [Validación de parámetros](#validación-de-parámetros)\n",
    "  - [Manejo de errores](#manejo-de-errores-y-mensajes-personalizados)\n",
    "  - [Generación automática de documentos](#generación-automática-de-documentos)"
   ]
  },
  {
   "cell_type": "markdown",
   "metadata": {},
   "source": [
    "\n",
    "## Poner en Producción\n",
    "Es un proceso en el que un modelo se integra en un entorno de IT y se pone a disposición de otros para su uso y consumo.\n",
    "\n",
    "Fuente de la imagen: https://kunal3836"
   ]
  },
  {
   "cell_type": "markdown",
   "metadata": {},
   "source": [
    "## Qué es una API?\n",
    "API (Application Programming Interface) crea un punto de entrada para una aplicación, a través de solicitudes HTTP.\n",
    "API: Abstracción de la aplicación + simplificación de la integración de terceros\n",
    "\n",
    "Fuente de la imagen: https://kunal3836"
   ]
  },
  {
   "cell_type": "markdown",
   "metadata": {},
   "source": [
    "## ¿Qué es FastAPI?\n",
    "Es el marco de referencia para crear API robustas y de alto rendimiento para entornos de producción."
   ]
  },
  {
   "cell_type": "markdown",
   "metadata": {},
   "source": [
    "## Características:"
   ]
  },
  {
   "cell_type": "markdown",
   "metadata": {},
   "source": [
    "### Sintaxis simple\n",
    "Similar a Flask. No servidor web integrado → UVICORN (servidor ASGI)\n",
    "\n",
    "```python\n",
    "# FLASK\n",
    "from flask import Flask\n",
    "app = Flask(__name__)\n",
    "@app.route(\"/\")\n",
    "def home():\n",
    "return {\"Hello\": \"World\"}\n",
    "if __name__ == \"__main__\":\n",
    "app.run()\n",
    "```\n",
    "```python\n",
    "# FASTAPI\n",
    "import uvicorn\n",
    "from fastapi import FastAPI\n",
    "app = FastAPI()\n",
    "@app.get(\"/\")\n",
    "def home():\n",
    "return {\"Hello\": \"World\"}\n",
    "if __name__ == \"__main__\":\n",
    "uvicorn.run(\"hello_world_fastapi:app\")\n",
    "```"
   ]
  },
  {
   "cell_type": "markdown",
   "metadata": {},
   "source": [
    "### Definir rutas\n",
    "```python\n",
    "# FLASK\n",
    "from flask import request\n",
    "@app.route(\"/\", methods=[\"POST\", \"GET\"])\n",
    "def home():\n",
    "    if request.method == \"POST\":\n",
    "    return {\"Hello\": \"POST\"}\n",
    "return {\"Hello\": \"GET\"}\n",
    "```\n",
    "```python\n",
    "# FASTAPI\n",
    "@app.get(\"/\")\n",
    "def home():\n",
    "    return {\"Hello\":\"GET\"}\n",
    "\n",
    "@app.post(\"/\")\n",
    "def home_post():\n",
    "    return {\"Hello\":\"POST\"}\n",
    "```"
   ]
  },
  {
   "cell_type": "markdown",
   "metadata": {},
   "source": [
    "### parámetros de ruta y de consulta\n",
    "\n",
    "```python\n",
    "# FLASK\n",
    "@app.route(\"/employee/<int:id>/\")\n",
    "def home():\n",
    "    return {\"id\": id} \n",
    "@app.route(\"/employee\")\n",
    "def home():\n",
    "    department = request.args.get(\"department\")\n",
    "    return {\"department\": department} \n",
    "```\n",
    "```python\n",
    "# FASTAPI\n",
    "\n",
    "@app.get(\"/employee/{id}\")\n",
    "def home(id: int):\n",
    "    return {\"id\": id}\n",
    "\n",
    "@app.get(\"/employee\")\n",
    "def home(department: str):\n",
    "    return {\"department\": department}"
   ]
  },
  {
   "cell_type": "markdown",
   "metadata": {},
   "source": [
    "### Solicitudes asincrónicas\n",
    "Carecen de solicitudes asíncronas: Flask y Django. \n",
    "\n",
    "**Programación asíncrona:** el código se ejecuta por separado del hilo principal de la aplicación.\n",
    "**Async** al controlador y el **await** como argumento antes de llamar a esa función.\n",
    "\n",
    "```python\n",
    "app = FastAPI()\n",
    "async def some_blocking_operation():\n",
    "# I/O read or write\n",
    "# a remote API call\n",
    "# database read and write\n",
    "# ...\n",
    "pass\n",
    "@app.get(\"/\")\n",
    "async def read_results():\n",
    "results = await some_blocking_operation()\n",
    "# other computations\n",
    "# ...\n",
    "return results\n",
    "```\n",
    "\n"
   ]
  },
  {
   "cell_type": "markdown",
   "metadata": {},
   "source": [
    "### Escritura con Pydantic\n",
    "\n",
    "Para la **validación en tiempo de ejecución** y permite que su IDE se **complete automáticamente** y **detecte errores** relacionados con el tipo.\n",
    "\n",
    "Ejemplo: API para publicar solicitudes de empleo y recibir decisiones aleatorias. Clase Application realiza la validación del tipo de datos: first_name de tipo string, age de tipo entero, etc\n",
    "\n",
    "```python\n",
    "class Application(BaseModel):\n",
    "    first_name: str\n",
    "    last_name: str\n",
    "    age: int\n",
    "    degree: str\n",
    "    interest_ Optional[str] = None\n",
    "```"
   ]
  },
  {
   "cell_type": "markdown",
   "metadata": {},
   "source": [
    "### Validación de parámetros\n",
    "FastAPI permite **validar las entradas** del usuario agregando **restricciones** en los parámetros de consulta.\n",
    "\n",
    "**Validación de parámetros de consulta de cadenas**. Establecemos una longitud máxima o mínima y una expresión regular en la que la consulta debe coincidir.\n",
    "\n",
    "**Validación de parámetros numéricos**. Al usar los parámetros numéricos establecemos un rango como restricción usando `gt` (mayor que) y `le` (menor o igual que)."
   ]
  },
  {
   "cell_type": "markdown",
   "metadata": {},
   "source": [
    "### manejo de errores y mensajes personalizados\n",
    "\n",
    "Puedes definir y generar **errores personalizados** con un mensaje y un código de estado específicos para facilitar la **depuración** de errores"
   ]
  },
  {
   "cell_type": "markdown",
   "metadata": {},
   "source": [
    "### Generación automática de documentos\n",
    "\n",
    "Se generan **automáticamente documentación** y exploración de API interactivas"
   ]
  }
 ],
 "metadata": {
  "language_info": {
   "name": "python"
  }
 },
 "nbformat": 4,
 "nbformat_minor": 2
}
