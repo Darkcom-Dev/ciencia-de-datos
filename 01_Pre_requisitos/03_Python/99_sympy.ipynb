{
 "cells": [
  {
   "cell_type": "markdown",
   "metadata": {},
   "source": [
    "# SymPy\n",
    "\n",
    "SymPy es una biblioteca de Python para matemáticas simbólicas. Proporciona herramientas para trabajar con expresiones matemáticas simbólicas en lugar de numéricas. Esto significa que SymPy puede manipular símbolos algebraicos en lugar de números, lo que permite realizar operaciones matemáticas de forma exacta, sin redondeos ni aproximaciones.\n",
    "\n",
    "Aquí hay algunas cosas que SymPy puede hacer:\n",
    "\n",
    "1. **Manipulación de expresiones algebraicas**: SymPy puede simplificar, expandir, factorizar y combinar expresiones algebraicas. Por ejemplo, puede simplificar $ (x^2 + 2x + 1) / (x + 1) $ a $ x + 1 $.\n",
    "\n",
    "2. **Resolución de ecuaciones y sistemas de ecuaciones**: SymPy puede resolver ecuaciones algebraicas, trascendentes y diferenciales. Por ejemplo, puede encontrar las raíces de una ecuación cuadrática o resolver un sistema de ecuaciones lineales.\n",
    "\n",
    "3. **Cálculo diferencial e integral**: SymPy puede calcular derivadas e integrales simbólicamente. Por ejemplo, puede encontrar la derivada de $ x^2 $ respecto a $ x $ o la integral de $ e^x $.\n",
    "\n",
    "4. **Álgebra lineal**: SymPy puede trabajar con matrices y realizar operaciones como multiplicación de matrices, determinantes e inversas.\n",
    "\n",
    "5. **Geometría**: SymPy puede trabajar con geometría, calcular longitudes, áreas y volúmenes, y resolver problemas geométricos.\n",
    "\n",
    "6. **Física**: SymPy tiene módulos para trabajar con física, incluyendo mecánica clásica, mecánica cuántica, electrostática, entre otros.\n",
    "\n",
    "SymPy es útil para estudiantes, científicos, ingenieros y cualquier persona que necesite realizar cálculos matemáticos complejos de forma exacta y precisa. Además, al ser una biblioteca de Python, es de código abierto, gratuita y fácilmente extensible, lo que la hace muy popular en la comunidad de programación científica."
   ]
  },
  {
   "cell_type": "code",
   "execution_count": 2,
   "metadata": {},
   "outputs": [
    {
     "ename": "ModuleNotFoundError",
     "evalue": "No module named 'sympy'",
     "output_type": "error",
     "traceback": [
      "\u001b[0;31m---------------------------------------------------------------------------\u001b[0m",
      "\u001b[0;31mModuleNotFoundError\u001b[0m                       Traceback (most recent call last)",
      "Cell \u001b[0;32mIn[2], line 1\u001b[0m\n\u001b[0;32m----> 1\u001b[0m \u001b[38;5;28;01mfrom\u001b[39;00m \u001b[38;5;21;01msympy\u001b[39;00m \u001b[38;5;28;01mimport\u001b[39;00m \u001b[38;5;241m*\u001b[39m\n\u001b[1;32m      3\u001b[0m x \u001b[38;5;241m=\u001b[39m Symbol(\u001b[38;5;124m'\u001b[39m\u001b[38;5;124mx\u001b[39m\u001b[38;5;124m'\u001b[39m)\n\u001b[1;32m      4\u001b[0m f \u001b[38;5;241m=\u001b[39m \u001b[38;5;241m1\u001b[39m\u001b[38;5;241m/\u001b[39m(\u001b[38;5;241m1\u001b[39m\u001b[38;5;241m+\u001b[39mexp(\u001b[38;5;241m-\u001b[39mx))\n",
      "\u001b[0;31mModuleNotFoundError\u001b[0m: No module named 'sympy'"
     ]
    }
   ],
   "source": [
    "from sympy import *\n",
    "\n",
    "x = Symbol('x')\n",
    "f = 1/(1+exp(-x))\n",
    "\n",
    "print(f)\n",
    "print(f.diff(x))"
   ]
  },
  {
   "cell_type": "code",
   "execution_count": 3,
   "metadata": {},
   "outputs": [
    {
     "name": "stdout",
     "output_type": "stream",
     "text": [
      "Hola mundo\n"
     ]
    }
   ],
   "source": [
    "print('Hola mundo')"
   ]
  }
 ],
 "metadata": {
  "kernelspec": {
   "display_name": "venv",
   "language": "python",
   "name": "python3"
  },
  "language_info": {
   "codemirror_mode": {
    "name": "ipython",
    "version": 3
   },
   "file_extension": ".py",
   "mimetype": "text/x-python",
   "name": "python",
   "nbconvert_exporter": "python",
   "pygments_lexer": "ipython3",
   "version": "3.9.2"
  }
 },
 "nbformat": 4,
 "nbformat_minor": 2
}
