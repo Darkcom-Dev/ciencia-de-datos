{
 "cells": [
  {
   "cell_type": "markdown",
   "metadata": {},
   "source": [
    "# Cuadernos de jupyter\n",
    "\n",
    "Para poder visualizar el contenido de cuadernos jupyter o ficheros **.ipynb** es necesario [descargar jupyter](https://jupyter.org/). pero creo que es mas facil usar [visual studio code](https://code.visualstudio.com/) y descaragr un plugin `ms-toolsai.jupyter` para que la experiencia esté mejor integrada con el entorno de desarrollo a su vez asi garantizo la compatibilidad con linux.\n",
    "\n",
    "Este tipo de ficheros trabaja mediante celdas que renderizan porciones de distintos lenguajes de código como markdown, python, bash, powershell, ruby, html etc, sin embargo cuando abres un documento a traves de un block de notas, realmente estos ficheros son solo archivos JSON que jupyter o vscode renderiza, aun asi es de gran ayuda tener donde anotar texto markdown, con resaltado de código, ademas ejecutable, facilitar la escritura ecuaciones matematicas con LaTeX, la posibilidad de agregarle gráficos vectoriales SVG, como rasterizados en los formatos mas comunes.\n",
    "\n",
    "En mi opinion mejora por mucho a cualquier archivo de word, pdf o html, por ser mas consistente, mas liviano y mas facil de editar, pero para hacerlo debes aprender lo básico de  HTML, LaTeX y markdown."
   ]
  },
  {
   "cell_type": "markdown",
   "metadata": {},
   "source": [
    "## Como visualizar cuadernos de jupyter en internet.\n",
    "\n",
    "Si tienes una página web que trate temas de código o si tu web es de informatica, es usual encontrarse el problema de quere representar bien comandos o trozos de código para alguna configuración particular y te encuentras que los servicios como wordpress o \"constructores de sitios web\" no te proporcionan herramientas en blogs para esta necesidad.\n",
    "\n",
    "hay algunas alternativas como:\n",
    "\n",
    "- github: al crear un repositorio con ficheros ipynb, estos se vizualizan correctamente, lo malo es que tendrias que mandar un link externo al repositorio.\n",
    "- [binder](https://mybinder.org/): ¿Tiene un repositorio lleno de cuadernos Jupyter? Con Binder, abra esos cuadernos en un entorno ejecutable, haciendo que su código sea inmediatamente reproducible por cualquier persona, en cualquier lugar.\n",
    "- [nbviewer](https://nbviewer.org/): similar a githuba, le mandas la direccion del repositorio de github y podras visualizar los ficheros ipynb, para incrustarlo en tu web, lo haces mediante un iframe\n",
    "```HTML\n",
    "<iframe src=\"https://nbviewer.jupyter.org/url/raw.githubusercontent.com/your_username/your_repo/master/your_notebook.ipynb\" width=\"800\" height=\"600\"></iframe>\n",
    "\n",
    "```\n",
    "- [Google Colab](https://colab.research.google.com/): Si prefieres utilizar Google Colab, puedes cargar tu archivo .ipynb en Google Drive y compartirlo con la opción de \"Get Shareable Link\". Los usuarios podrán acceder al notebook y ejecutarlo desde Google Colab.\n",
    "- Embedding Services: Algunos servicios de terceros, como nbviewer o nbinteract, ofrecen formas de embeber notebooks directamente en una página web. Esto permite visualizar los notebooks sin necesidad de descargarlos.\n",
    "- [Voilá](https://github.com/voila-dashboards/voila): Es un servicio embebido, esto lo investigaré mas adelante."
   ]
  },
  {
   "cell_type": "markdown",
   "metadata": {},
   "source": [
    "<iframe src=\"https://nbviewer.org/github/Darkcom-Dev/Ciencia_de_Datos/blob/main/Ruta_de_aprendizaje.ipynb\" width=\"800\" height=\"600\"></iframe>"
   ]
  },
  {
   "cell_type": "markdown",
   "metadata": {},
   "source": [
    "https://nbviewer.jupyter.org/https://github.com/Darkcom-Dev/Ciencia_de_Datos/blob/main/Ruta_de_aprendizaje.ipynb"
   ]
  },
  {
   "cell_type": "markdown",
   "metadata": {},
   "source": [
    "## Importando librerias propias.\n",
    "\n",
    "Entre los archivos de esta carpeta está un fichero llamado `neurona.py` que contiene una **clase ficticia** llamada `Neurona`.\n",
    "\n",
    "A veces pasa que la importación funciona bien y otras veces no, en este caso funcionó, asegurese que la libreria esta en la misma ruta que el cuaderno."
   ]
  },
  {
   "cell_type": "code",
   "execution_count": 1,
   "metadata": {},
   "outputs": [
    {
     "name": "stdout",
     "output_type": "stream",
     "text": [
      "0.25\n"
     ]
    }
   ],
   "source": [
    "import neurona\n",
    "\n",
    "nueva_neurona = neurona.Neurona(0.5)\n",
    "print(nueva_neurona.forward(0.5))"
   ]
  },
  {
   "cell_type": "markdown",
   "metadata": {},
   "source": [
    "## Como correr un servidor de Jupyter en tu PC\n",
    "\n",
    "1. para poder hacerlo es necesario instalar `jupyterlab`\n",
    "\n",
    "```sh\n",
    "pip3 install jupyterlab\n",
    "```\n",
    "\n",
    "2. pero aun no es suficiente, es necesario ejecutar \n",
    "\n",
    "```sh\n",
    "jupyter --version\n",
    "```\n",
    "3.`jupyter --version` mostrará las versiones de todos los paquetes necesarios, veras que aun faltan muchas librerias, ejecuta el punto 1 de nuevo para que termine de instalar la mayoria. si ya lo tienes continua al punto 4\n",
    "\n",
    "4. instala la libreria notebook\n",
    "```sh\n",
    "pip3 notebook\n",
    "```\n",
    "\n",
    "#### Configuracion del servidor\n",
    "\n",
    "1. genera la configuracion \n",
    "```sh\n",
    "jupyter notebook --generate-config\n",
    "```\n",
    "2. Configura el password, te pedira que introduzcas un nuevo password 2 veces\n",
    "```sh\n",
    "jupyter notebook password\n",
    "```\n",
    "3. ejecuta el server\n",
    "```sh\n",
    "jupyter notebook\n",
    "```\n",
    "\n",
    "y listo ya esta, esto anzará el servidor en el puerto 8888"
   ]
  }
 ],
 "metadata": {
  "kernelspec": {
   "display_name": "Python 3 (ipykernel)",
   "language": "python",
   "name": "python3"
  },
  "language_info": {
   "codemirror_mode": {
    "name": "ipython",
    "version": 3
   },
   "file_extension": ".py",
   "mimetype": "text/x-python",
   "name": "python",
   "nbconvert_exporter": "python",
   "pygments_lexer": "ipython3",
   "version": "3.9.2"
  }
 },
 "nbformat": 4,
 "nbformat_minor": 4
}
