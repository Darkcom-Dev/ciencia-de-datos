{
 "cells": [
  {
   "cell_type": "markdown",
   "metadata": {},
   "source": [
    "> Código pendiente para revisión\n",
    "\n",
    "# Chapter 18: Indexando y Seleccionando datos\n",
    "### Examples\n",
    "Select column by label"
   ]
  },
  {
   "cell_type": "code",
   "execution_count": null,
   "metadata": {},
   "outputs": [],
   "source": [
    "import pandas as pd\n",
    "import numpy as np\n",
    "\n",
    "# Creando una muestra de DF\n",
    "df = pd.DataFrame(np.random.randn(5, 3), columns=list('ABC'))\n",
    "# Show DF\n",
    "df\n"
   ]
  },
  {
   "cell_type": "code",
   "execution_count": null,
   "metadata": {},
   "outputs": [],
   "source": [
    "\n",
    "# Seleccionando una columna usando la etiqueta, 'A'\n",
    "df['A']\n"
   ]
  },
  {
   "cell_type": "code",
   "execution_count": null,
   "metadata": {},
   "outputs": [],
   "source": [
    "\n",
    "# Seleccionando multiples columnas usando una lista de etiquetas, ['A', 'C']\n",
    "df[['A', 'C']]\n"
   ]
  },
  {
   "cell_type": "markdown",
   "metadata": {},
   "source": [
    "Additional details at: http://pandas.pydata.org/pandas-docs/version/0.18.0/indexing.html#selection-by-label\n",
    "\n",
    "Select by position\n",
    "\n",
    "The iloc (short for integer location) method allows to select the rows of a dataframe based on their position index. This way one can slice dataframes just like one does with Python's list slicing."
   ]
  },
  {
   "cell_type": "markdown",
   "metadata": {},
   "source": [
    "[Detalles adicionales](http://pandas.pydata.org/pandas-docs/version/0.18.0/indexing.html#selection-by-label)\n",
    "\n",
    "#### Seleccionar por posición\n",
    "\n",
    "El método iloc (abreviatura de ubicación entera) permite seleccionar las filas de un dataframe basado en su índice de posición. De esta manera, uno puede dividir dataframes de la misma forma en que se hace con el corte de listas de Python."
   ]
  },
  {
   "cell_type": "code",
   "execution_count": null,
   "metadata": {},
   "outputs": [],
   "source": [
    "df = pd.DataFrame([[11, 22], [33, 44], [55, 66]], index=list(\"abc\"))\n",
    "df"
   ]
  },
  {
   "cell_type": "markdown",
   "metadata": {},
   "source": [
    "df.iloc[0] # the 0th index (row)"
   ]
  },
  {
   "cell_type": "code",
   "execution_count": null,
   "metadata": {},
   "outputs": [],
   "source": [
    "df.iloc[1] # the 1st index (row)"
   ]
  },
  {
   "cell_type": "code",
   "execution_count": null,
   "metadata": {},
   "outputs": [],
   "source": [
    "df.iloc[:2] # the first 2 rows"
   ]
  },
  {
   "cell_type": "code",
   "execution_count": null,
   "metadata": {},
   "outputs": [],
   "source": [
    "df[::-1] # reverse order of rows"
   ]
  },
  {
   "cell_type": "markdown",
   "metadata": {},
   "source": [
    "Row location can be combined with column location"
   ]
  },
  {
   "cell_type": "code",
   "execution_count": null,
   "metadata": {},
   "outputs": [],
   "source": [
    "df.iloc[:, 1] # the 1st column"
   ]
  },
  {
   "cell_type": "markdown",
   "metadata": {},
   "source": [
    "Tambien vea: [Selección por posición](http://pandas.pydata.org/pandas-docs/stable/indexing.html#indexing-integer)\n",
    "\n",
    "Slicing con etiquetas\n",
    "\n",
    "Cuando usas etiquetas, ambos, el inicio y la parada son incluidos en los resultados."
   ]
  },
  {
   "cell_type": "code",
   "execution_count": null,
   "metadata": {},
   "outputs": [],
   "source": [
    "import pandas as pd\n",
    "import numpy as np\n",
    "np.random.seed(5)\n",
    "df = pd.DataFrame(np.random.randint(100, size=(5, 5)), columns = list(\"ABCDE\"),\n",
    "    index = [\"R\" + str(i) for i in range(5)])"
   ]
  },
  {
   "cell_type": "markdown",
   "metadata": {},
   "source": [
    "Filas R0 a R2:"
   ]
  },
  {
   "cell_type": "code",
   "execution_count": null,
   "metadata": {},
   "outputs": [],
   "source": [
    "df.loc['R0':'R2']"
   ]
  },
  {
   "cell_type": "markdown",
   "metadata": {},
   "source": [
    "Note como `loc` difiere de `iloc` debido a que `iloc` excluye el indice final"
   ]
  },
  {
   "cell_type": "code",
   "execution_count": null,
   "metadata": {},
   "outputs": [],
   "source": [
    "df.loc['R0':'R2'] # rows labelled R0, R1, R2\n",
    "\n",
    "# df.iloc[0:2] # rows indexed by 0, 1"
   ]
  },
  {
   "cell_type": "markdown",
   "metadata": {},
   "source": [
    "Columnas C a D:"
   ]
  },
  {
   "cell_type": "code",
   "execution_count": null,
   "metadata": {},
   "outputs": [],
   "source": [
    "df.loc[:,'C':'E']"
   ]
  },
  {
   "cell_type": "markdown",
   "metadata": {},
   "source": [
    "#### Posiciones mezcladas y etiquetas basadas en selección.\n",
    "\n",
    "DataFrame:"
   ]
  },
  {
   "cell_type": "code",
   "execution_count": null,
   "metadata": {},
   "outputs": [],
   "source": [
    "import pandas as pd\n",
    "import numpy as np\n",
    "np.random.seed(5)\n",
    "df = pd.DataFrame(np.random.randint(100, size=(5, 5)), columns = list(\"ABCDE\"),\n",
    "    index = [\"R\" + str(i) for i in range(5)])"
   ]
  },
  {
   "cell_type": "markdown",
   "metadata": {},
   "source": [
    "Seleccion de filas por posicion, y columnas por etiquetas:"
   ]
  },
  {
   "cell_type": "code",
   "execution_count": null,
   "metadata": {},
   "outputs": [],
   "source": [
    "df.ix[1:3, 'C':'E']"
   ]
  },
  {
   "cell_type": "markdown",
   "metadata": {},
   "source": [
    "Si el índice es un entero, .ix usará etiquetas en lugar de posiciones:"
   ]
  },
  {
   "cell_type": "code",
   "execution_count": null,
   "metadata": {},
   "outputs": [],
   "source": [
    "df.index = np.arange(5, 10)\n",
    "df\n",
    "\n",
    "\n",
    "#same call returns an empty DataFrame because now the index is integer\n",
    "df.ix[1:3, 'C':'E']"
   ]
  },
  {
   "cell_type": "markdown",
   "metadata": {},
   "source": [
    "#### Indexado booleano.\n",
    "\n",
    "Uno puede seleccionar filas y columnas de un datafrae usando arrays booleanos."
   ]
  },
  {
   "cell_type": "code",
   "execution_count": null,
   "metadata": {},
   "outputs": [],
   "source": [
    "import pandas as pd\n",
    "import numpy as np\n",
    "np.random.seed(5)\n",
    "df = pd.DataFrame(np.random.randint(100, size=(5, 5)), columns = list(\"ABCDE\"),\n",
    "    index = [\"R\" + str(i) for i in range(5)])\n",
    "print (df)"
   ]
  },
  {
   "cell_type": "code",
   "execution_count": null,
   "metadata": {},
   "outputs": [],
   "source": [
    "mask = df['A'] > 10\n",
    "print (mask)"
   ]
  },
  {
   "cell_type": "code",
   "execution_count": null,
   "metadata": {},
   "outputs": [],
   "source": [
    "print(df[mask])"
   ]
  },
  {
   "cell_type": "code",
   "execution_count": null,
   "metadata": {},
   "outputs": [],
   "source": [
    "print (df.ix[mask, 'C'])"
   ]
  },
  {
   "cell_type": "code",
   "execution_count": null,
   "metadata": {},
   "outputs": [],
   "source": [
    "print(df.ix[mask, ['C', 'D']])"
   ]
  },
  {
   "cell_type": "markdown",
   "metadata": {},
   "source": [
    "Mas en la [documentación de pandas](http://pandas.pydata.org/pandas-docs/stable/indexing.html#boolean-indexing)\n",
    "\n",
    "#### Filtrando columnas (seleccionando lo interesante y descartando lo innecesario, usando RegEx, etc)\n",
    "\n",
    "---\n",
    "\n",
    "Generando un DF de muestra"
   ]
  },
  {
   "cell_type": "code",
   "execution_count": null,
   "metadata": {},
   "outputs": [],
   "source": [
    "df = pd.DataFrame(np.random.randint(0, 10, size=(5, 6)),\n",
    "        columns=['a10','a20','a25','b','c','d'])\n",
    "df"
   ]
  },
  {
   "cell_type": "markdown",
   "metadata": {},
   "source": [
    "Mostrando columnas que contengan la letra \"a\""
   ]
  },
  {
   "cell_type": "code",
   "execution_count": null,
   "metadata": {},
   "outputs": [],
   "source": [
    "df.filter(like='a')"
   ]
  },
  {
   "cell_type": "markdown",
   "metadata": {},
   "source": [
    "Mostrando columnas usando el filtro RegEx `(a|c|d)` - `b` o `c` o `d`"
   ]
  },
  {
   "cell_type": "code",
   "execution_count": null,
   "metadata": {},
   "outputs": [],
   "source": [
    "df.filter(regex='(b|c|d)')"
   ]
  },
  {
   "cell_type": "markdown",
   "metadata": {},
   "source": [
    "Mostrando todas las columnas excepto las que comienzan con `a`\n",
    "\n",
    "En otras palabras remueve o descarta todas las columnas satisfaciendo lo dado por el RegEx "
   ]
  },
  {
   "cell_type": "code",
   "execution_count": null,
   "metadata": {},
   "outputs": [],
   "source": [
    "df.ix[:, ~df.columns.str.contains('^a')]"
   ]
  },
  {
   "cell_type": "markdown",
   "metadata": {},
   "source": [
    "#### Filtrando / seleccionando filas usando el metodo `.query()`\n",
    "\n",
    "Generando un DF aleatorio"
   ]
  },
  {
   "cell_type": "code",
   "execution_count": null,
   "metadata": {},
   "outputs": [],
   "source": [
    "import pandas as pd\n",
    "\n",
    "df = pd.DataFrame(np.random.randint(0,10,size=(10, 3)), columns=list('ABC'))\n",
    "print(df)"
   ]
  },
  {
   "cell_type": "markdown",
   "metadata": {},
   "source": [
    "Seleccionando filas donde los valores en columna `A > 2 y B < 5`"
   ]
  },
  {
   "cell_type": "code",
   "execution_count": null,
   "metadata": {},
   "outputs": [],
   "source": [
    "df.query('A > 2 and B < 5')"
   ]
  },
  {
   "cell_type": "markdown",
   "metadata": {},
   "source": [
    "Usando el método `.query()` con variables para filtrar"
   ]
  },
  {
   "cell_type": "code",
   "execution_count": null,
   "metadata": {},
   "outputs": [],
   "source": [
    "B_filter = [1,7]\n",
    "df.query('B == @B_filter')\n",
    "\n",
    "df.query('@B_filter in B')"
   ]
  },
  {
   "cell_type": "markdown",
   "metadata": {},
   "source": [
    "#### Corte Dependiente del Camino\n",
    "\n",
    "Puede ser necesario recorrer los elementos de una serie o las filas de un dataframe de una manera en que el siguiente elemento o fila dependa del elemento o fila previamente seleccionado. Esto se llama dependencia de camino.\n",
    "\n",
    "Considera la siguiente serie de tiempo s con frecuencia irregular."
   ]
  },
  {
   "cell_type": "code",
   "execution_count": null,
   "metadata": {},
   "outputs": [],
   "source": [
    "#starting python community conventions\n",
    "import numpy as np\n",
    "import pandas as pd\n",
    "\n",
    "# n is number of observations\n",
    "n = 5000\n",
    "day = pd.to_datetime(['2013-02-06'])\n",
    "\n",
    "# irregular seconds spanning 28800 seconds (8 hours)\n",
    "seconds = np.random.rand(n) * 28800 * pd.Timedelta(1, 's')\n",
    "\n",
    "# start at 8 am\n",
    "start = pd.offsets.Hour(8)\n",
    "\n",
    "# irregular timeseries\n",
    "tidx = day + start + seconds\n",
    "tidx = tidx.sort_values()\n",
    "s = pd.Series(np.random.randn(n), tidx, name='A').cumsum()\n",
    "s.plot();"
   ]
  },
  {
   "cell_type": "markdown",
   "metadata": {},
   "source": [
    "Supongamos una condición dependiente del camino. Comenzando con el primer elemento de la serie, quiero seleccionar cada elemento subsiguiente de manera que la diferencia absoluta entre ese elemento y el elemento actual sea mayor o igual a x.\n",
    "\n",
    "Resolveremos este problema utilizando generadores de Python.\n",
    "\n",
    "#### Función generadora"
   ]
  },
  {
   "cell_type": "code",
   "execution_count": null,
   "metadata": {},
   "outputs": [],
   "source": [
    "def mover(s, move_size=10):\n",
    "    \"\"\"Given a reference, find next value with\n",
    "    an absolute difference >= move_size\"\"\"\n",
    "    ref = None\n",
    "    for i, v in s.iteritems():\n",
    "        if ref is None or (abs(ref - v) >= move_size):\n",
    "            yield i, v\n",
    "            ref = v"
   ]
  },
  {
   "cell_type": "markdown",
   "metadata": {},
   "source": [
    "Entonces nosotros podemos definir una nueva serie como `moves`"
   ]
  },
  {
   "cell_type": "code",
   "execution_count": null,
   "metadata": {},
   "outputs": [],
   "source": [
    "moves = pd.Series({i:v for i, v in mover(s, move_size=10)},\n",
    "        name='_{}_'.format(s.name))"
   ]
  },
  {
   "cell_type": "markdown",
   "metadata": {},
   "source": [
    "Graficando ambos"
   ]
  },
  {
   "cell_type": "code",
   "execution_count": null,
   "metadata": {},
   "outputs": [],
   "source": [
    "moves.plot(legend=True)\n",
    "s.plot(legend=True)"
   ]
  },
  {
   "cell_type": "markdown",
   "metadata": {},
   "source": [
    "El equivalente para dataframes sería:"
   ]
  },
  {
   "cell_type": "code",
   "execution_count": null,
   "metadata": {},
   "outputs": [],
   "source": [
    "def mover_df(df, col, move_size=2):\n",
    "    ref = None\n",
    "    for i, row in df.iterrows():\n",
    "        if ref is None or (abs(ref - row.loc[col]) >= move_size):\n",
    "            yield row\n",
    "            ref = row.loc[col]\n",
    "\n",
    "df = s.to_frame()\n",
    "moves_df = pd.concat(mover_df(df, 'A', 10), axis=1).T\n",
    "\n",
    "moves_df.A.plot(label='_A_', legend=True)\n",
    "df.A.plot(legend=True)"
   ]
  },
  {
   "cell_type": "markdown",
   "metadata": {},
   "source": [
    "Obtener las primeras/últimas n filas de un dataframe\n",
    "\n",
    "- Para ver los primeros o últimos registros de un dataframe, puedes utilizar los métodos `head y tail`.\n",
    "- Para devolver las primeras n filas, usa `DataFrame.head([n])`."
   ]
  },
  {
   "cell_type": "code",
   "execution_count": null,
   "metadata": {},
   "outputs": [],
   "source": [
    "df.head(n)"
   ]
  },
  {
   "cell_type": "markdown",
   "metadata": {},
   "source": [
    "Para retornar las ultimas n filas use `DataFrame.tail([n])`"
   ]
  },
  {
   "cell_type": "code",
   "execution_count": null,
   "metadata": {},
   "outputs": [],
   "source": [
    "df.tail(n)"
   ]
  },
  {
   "cell_type": "markdown",
   "metadata": {},
   "source": [
    "Sin el argumento n, estas funciones retornan 5 filas.\n",
    "\n",
    "> Ten en cuenta que la notación de corte para head/tail sería:"
   ]
  },
  {
   "cell_type": "code",
   "execution_count": null,
   "metadata": {},
   "outputs": [],
   "source": [
    "df[:10] # same as df.head(10)\n",
    "df[-10:] # same as df.tail(10)"
   ]
  },
  {
   "cell_type": "markdown",
   "metadata": {},
   "source": [
    "#### Seleccionar filas distintas en todo el dataframe.\n",
    "\n",
    "Let"
   ]
  },
  {
   "cell_type": "code",
   "execution_count": null,
   "metadata": {},
   "outputs": [],
   "source": [
    "df['col_1'].unique()"
   ]
  },
  {
   "cell_type": "markdown",
   "metadata": {},
   "source": [
    "Pero `Series.unique()` funciona solo para una sola columna.\n",
    "\n",
    "Para simular el select unique col_1, col_2 de SQL, puedes usar `DataFrame.drop_duplicates()`:"
   ]
  },
  {
   "cell_type": "code",
   "execution_count": null,
   "metadata": {},
   "outputs": [],
   "source": [
    "df.drop_duplicates()"
   ]
  },
  {
   "cell_type": "markdown",
   "metadata": {},
   "source": [
    "Esto obtendrá todas las filas unicas en el dataframe."
   ]
  },
  {
   "cell_type": "code",
   "execution_count": null,
   "metadata": {},
   "outputs": [],
   "source": [
    "df = pd.DataFrame({'col_1':['A','B','A','B','C'], 'col_2':[3,4,3,5,6],\n",
    "                    'col_3':[0,0.1,0.2,0.3,0.4]})\n",
    "df"
   ]
  },
  {
   "cell_type": "code",
   "execution_count": null,
   "metadata": {},
   "outputs": [],
   "source": [
    "df.drop_duplicates()"
   ]
  },
  {
   "cell_type": "markdown",
   "metadata": {},
   "source": [
    "Para especificar la columna a considerar cuando seleccionamos registros unicos, pasaremos estos argumentos."
   ]
  },
  {
   "cell_type": "code",
   "execution_count": null,
   "metadata": {},
   "outputs": [],
   "source": [
    "df = pd.DataFrame({'col_1':['A','B','A','B','C'], 'col_2':[3,4,3,5,6],\n",
    "                    'col_3':[0,0.1,0.2,0.3,0.4]})\n",
    "df.drop_duplicates(['col_1','col_2'])\n",
    "\n",
    "#\n",
    "#\n",
    "# skip last column\n",
    "df.drop_duplicates(['col_1','col_2'])[['col_1','col_2']]"
   ]
  },
  {
   "cell_type": "markdown",
   "metadata": {},
   "source": [
    "Fuente: [¿Como seleccionar unicos a traves de multiples ccolumnas en dataframes de pandas?](http://stackoverflow.com/questions/30530663/how-to-select-distinct-across-multiple-data-frame-columns-in-pandas)\n",
    "\n",
    "#### Filtrar las filas con datos faltantes (NaN, None, NaT)\n",
    "\n",
    "Si tienes un dataframe con datos faltantes `(NaN, pd.NaT, None)`, puedes filtrar las filas incompletas."
   ]
  },
  {
   "cell_type": "code",
   "execution_count": null,
   "metadata": {},
   "outputs": [],
   "source": [
    "df = pd.DataFrame([[0,1,2,3],\n",
    "                    [None,5,None,pd.NaT],\n",
    "                    [8,None,10,None],\n",
    "                    [11,12,13,pd.NaT]],columns=list('ABCD'))\n",
    "df"
   ]
  },
  {
   "cell_type": "markdown",
   "metadata": {},
   "source": [
    "[DataFrame.dropna](http://pandas.pydata.org/pandas-docs/stable/generated/pandas.DataFrame.dropna.html) Descarta todas las filas que almenos tenga un campo con datos perdidos."
   ]
  },
  {
   "cell_type": "code",
   "execution_count": null,
   "metadata": {},
   "outputs": [],
   "source": [
    "df.dropna()"
   ]
  },
  {
   "cell_type": "markdown",
   "metadata": {},
   "source": [
    "Para justo descartar las filas que estan perdidos en una columna especifica use `subset`"
   ]
  },
  {
   "cell_type": "code",
   "execution_count": null,
   "metadata": {},
   "outputs": [],
   "source": [
    "df.dropna(subset=['C'])"
   ]
  },
  {
   "cell_type": "markdown",
   "metadata": {},
   "source": [
    "Utiliza la opción `inplace = True` para reemplazo en su lugar con el marco filtrado.\n",
    "\n",
    "Lee: [Indexing and selecting data online](https://riptutorial.com/pandas/topic/1751/indexing-and-selecting-data)"
   ]
  }
 ],
 "metadata": {
  "language_info": {
   "name": "python"
  }
 },
 "nbformat": 4,
 "nbformat_minor": 2
}
