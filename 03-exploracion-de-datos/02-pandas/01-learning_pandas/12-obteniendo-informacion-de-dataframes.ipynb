{
 "cells": [
  {
   "cell_type": "markdown",
   "metadata": {},
   "source": [
    "# Capitulo 12: Obteniendo información acerca de DataFrames.\n",
    "\n",
    "#### Ejemplos.\n",
    "\n",
    "##### Obtener información y uso de memoria.\n",
    "Para obtener información básica de un DataFrame incluyendo nombres y tipos de datos:\n"
   ]
  },
  {
   "cell_type": "code",
   "execution_count": 2,
   "metadata": {},
   "outputs": [
    {
     "name": "stdout",
     "output_type": "stream",
     "text": [
      "<class 'pandas.core.frame.DataFrame'>\n",
      "RangeIndex: 3 entries, 0 to 2\n",
      "Data columns (total 4 columns):\n",
      " #   Column          Non-Null Count  Dtype  \n",
      "---  ------          --------------  -----  \n",
      " 0   integers        3 non-null      int64  \n",
      " 1   floats          3 non-null      float64\n",
      " 2   text            3 non-null      object \n",
      " 3   ints with None  2 non-null      float64\n",
      "dtypes: float64(2), int64(1), object(1)\n",
      "memory usage: 224.0+ bytes\n"
     ]
    }
   ],
   "source": [
    "import pandas as pd\n",
    "\n",
    "df = pd.DataFrame({\n",
    "    'integers': [1, 2, 3],\n",
    "    'floats': [1.5, 2.5, 3.0],\n",
    "    'text': ['a', 'b', 'c'],\n",
    "    'ints with None': [1, None, 3]\n",
    "})\n",
    "df.info()"
   ]
  },
  {
   "cell_type": "markdown",
   "metadata": {},
   "source": [
    "Para obtener el uso de memoria del data frame:"
   ]
  },
  {
   "cell_type": "code",
   "execution_count": 3,
   "metadata": {},
   "outputs": [
    {
     "name": "stdout",
     "output_type": "stream",
     "text": [
      "<class 'pandas.core.frame.DataFrame'>\n",
      "RangeIndex: 3 entries, 0 to 2\n",
      "Data columns (total 4 columns):\n",
      " #   Column          Non-Null Count  Dtype  \n",
      "---  ------          --------------  -----  \n",
      " 0   integers        3 non-null      int64  \n",
      " 1   floats          3 non-null      float64\n",
      " 2   text            3 non-null      object \n",
      " 3   ints with None  2 non-null      float64\n",
      "dtypes: float64(2), int64(1), object(1)\n",
      "memory usage: 374.0 bytes\n"
     ]
    }
   ],
   "source": [
    "df.info(memory_usage='deep')"
   ]
  },
  {
   "cell_type": "markdown",
   "metadata": {},
   "source": [
    "##### Lista el nombre de las columnas del dataframe."
   ]
  },
  {
   "cell_type": "code",
   "execution_count": 4,
   "metadata": {},
   "outputs": [],
   "source": [
    "df = pd.DataFrame({\n",
    "    'a': [1, 2, 3],\n",
    "    'b': [4,5,6],\n",
    "    'c': [7,8,9]\n",
    "})"
   ]
  },
  {
   "cell_type": "markdown",
   "metadata": {},
   "source": [
    "Para listar nombres de columnas en un DataFrame:"
   ]
  },
  {
   "cell_type": "code",
   "execution_count": 5,
   "metadata": {},
   "outputs": [
    {
     "data": {
      "text/plain": [
       "['a', 'b', 'c']"
      ]
     },
     "execution_count": 5,
     "metadata": {},
     "output_type": "execute_result"
    }
   ],
   "source": [
    "list(df)"
   ]
  },
  {
   "cell_type": "markdown",
   "metadata": {},
   "source": [
    "Este método de comprensión de listas es especialmente útil cuando se utiliza el depurador:"
   ]
  },
  {
   "cell_type": "code",
   "execution_count": 6,
   "metadata": {},
   "outputs": [
    {
     "data": {
      "text/plain": [
       "['a', 'b', 'c']"
      ]
     },
     "execution_count": 6,
     "metadata": {},
     "output_type": "execute_result"
    }
   ],
   "source": [
    "[c for c in df]"
   ]
  },
  {
   "cell_type": "markdown",
   "metadata": {},
   "source": [
    "Esto es el camino largo:"
   ]
  },
  {
   "cell_type": "code",
   "execution_count": 9,
   "metadata": {},
   "outputs": [
    {
     "data": {
      "text/plain": [
       "['a', 'b', 'c']"
      ]
     },
     "execution_count": 9,
     "metadata": {},
     "output_type": "execute_result"
    }
   ],
   "source": [
    "sampledf = df.columns.tolist()\n",
    "sampledf"
   ]
  },
  {
   "cell_type": "markdown",
   "metadata": {},
   "source": [
    "También puedes imprimirlos como un índice en lugar de una lista (aunque esto no será muy visible para marcos de datos con muchas columnas):"
   ]
  },
  {
   "cell_type": "code",
   "execution_count": 10,
   "metadata": {},
   "outputs": [
    {
     "data": {
      "text/plain": [
       "Index(['a', 'b', 'c'], dtype='object')"
      ]
     },
     "execution_count": 10,
     "metadata": {},
     "output_type": "execute_result"
    }
   ],
   "source": []
  },
  {
   "cell_type": "markdown",
   "metadata": {},
   "source": [
    "##### Varios resumenes estadisticos en Data Frames."
   ]
  },
  {
   "cell_type": "code",
   "execution_count": 12,
   "metadata": {},
   "outputs": [],
   "source": [
    "import pandas as pd\n",
    "import numpy as np\n",
    "df = pd.DataFrame(np.random.randn(5,5), columns=list('ABCDE'))"
   ]
  },
  {
   "cell_type": "markdown",
   "metadata": {},
   "source": [
    "Generar diversas estadísticas resumidas. Para valores numéricos, el número de valores nulos/no NA (count), la media (mean), la desviación estándar estándar y los valores conocidos como resumen de cinco números:\n",
    "\n",
    "- min : mínimo (observación más pequeña)\n",
    "- 25%: cuartil inferior o primer cuartil (Q1)\n",
    "- 50%: mediana (valor medio, Q2)\n",
    "- 75%: cuartil superior o tercer cuartil (Q3)\n",
    "- max : máximo (observación más grande)"
   ]
  },
  {
   "cell_type": "code",
   "execution_count": 13,
   "metadata": {},
   "outputs": [
    {
     "data": {
      "text/html": [
       "<div>\n",
       "<style scoped>\n",
       "    .dataframe tbody tr th:only-of-type {\n",
       "        vertical-align: middle;\n",
       "    }\n",
       "\n",
       "    .dataframe tbody tr th {\n",
       "        vertical-align: top;\n",
       "    }\n",
       "\n",
       "    .dataframe thead th {\n",
       "        text-align: right;\n",
       "    }\n",
       "</style>\n",
       "<table border=\"1\" class=\"dataframe\">\n",
       "  <thead>\n",
       "    <tr style=\"text-align: right;\">\n",
       "      <th></th>\n",
       "      <th>A</th>\n",
       "      <th>B</th>\n",
       "      <th>C</th>\n",
       "      <th>D</th>\n",
       "      <th>E</th>\n",
       "    </tr>\n",
       "  </thead>\n",
       "  <tbody>\n",
       "    <tr>\n",
       "      <th>count</th>\n",
       "      <td>5.000000</td>\n",
       "      <td>5.000000</td>\n",
       "      <td>5.000000</td>\n",
       "      <td>5.000000</td>\n",
       "      <td>5.000000</td>\n",
       "    </tr>\n",
       "    <tr>\n",
       "      <th>mean</th>\n",
       "      <td>0.362607</td>\n",
       "      <td>0.002674</td>\n",
       "      <td>0.260535</td>\n",
       "      <td>0.085936</td>\n",
       "      <td>0.727535</td>\n",
       "    </tr>\n",
       "    <tr>\n",
       "      <th>std</th>\n",
       "      <td>0.765364</td>\n",
       "      <td>1.315653</td>\n",
       "      <td>0.855857</td>\n",
       "      <td>1.377409</td>\n",
       "      <td>0.611949</td>\n",
       "    </tr>\n",
       "    <tr>\n",
       "      <th>min</th>\n",
       "      <td>-0.570695</td>\n",
       "      <td>-1.161486</td>\n",
       "      <td>-0.947881</td>\n",
       "      <td>-1.491495</td>\n",
       "      <td>0.055684</td>\n",
       "    </tr>\n",
       "    <tr>\n",
       "      <th>25%</th>\n",
       "      <td>-0.136936</td>\n",
       "      <td>-1.101310</td>\n",
       "      <td>-0.255843</td>\n",
       "      <td>-1.115335</td>\n",
       "      <td>0.125298</td>\n",
       "    </tr>\n",
       "    <tr>\n",
       "      <th>50%</th>\n",
       "      <td>0.251472</td>\n",
       "      <td>-0.309895</td>\n",
       "      <td>0.568005</td>\n",
       "      <td>0.365659</td>\n",
       "      <td>0.983671</td>\n",
       "    </tr>\n",
       "    <tr>\n",
       "      <th>75%</th>\n",
       "      <td>1.039079</td>\n",
       "      <td>0.614067</td>\n",
       "      <td>0.741045</td>\n",
       "      <td>0.857412</td>\n",
       "      <td>1.012757</td>\n",
       "    </tr>\n",
       "    <tr>\n",
       "      <th>max</th>\n",
       "      <td>1.230113</td>\n",
       "      <td>1.971994</td>\n",
       "      <td>1.197349</td>\n",
       "      <td>1.813437</td>\n",
       "      <td>1.460265</td>\n",
       "    </tr>\n",
       "  </tbody>\n",
       "</table>\n",
       "</div>"
      ],
      "text/plain": [
       "              A         B         C         D         E\n",
       "count  5.000000  5.000000  5.000000  5.000000  5.000000\n",
       "mean   0.362607  0.002674  0.260535  0.085936  0.727535\n",
       "std    0.765364  1.315653  0.855857  1.377409  0.611949\n",
       "min   -0.570695 -1.161486 -0.947881 -1.491495  0.055684\n",
       "25%   -0.136936 -1.101310 -0.255843 -1.115335  0.125298\n",
       "50%    0.251472 -0.309895  0.568005  0.365659  0.983671\n",
       "75%    1.039079  0.614067  0.741045  0.857412  1.012757\n",
       "max    1.230113  1.971994  1.197349  1.813437  1.460265"
      ]
     },
     "execution_count": 13,
     "metadata": {},
     "output_type": "execute_result"
    }
   ],
   "source": [
    "df.describe()"
   ]
  },
  {
   "cell_type": "markdown",
   "metadata": {},
   "source": [
    "Read Getting information about DataFrames [online](https://riptutorial.com/pandas/topic/6697/getting-information-about-dataframes):\n"
   ]
  }
 ],
 "metadata": {
  "kernelspec": {
   "display_name": "Python 3",
   "language": "python",
   "name": "python3"
  },
  "language_info": {
   "codemirror_mode": {
    "name": "ipython",
    "version": 3
   },
   "file_extension": ".py",
   "mimetype": "text/x-python",
   "name": "python",
   "nbconvert_exporter": "python",
   "pygments_lexer": "ipython3",
   "version": "3.9.2"
  }
 },
 "nbformat": 4,
 "nbformat_minor": 2
}
