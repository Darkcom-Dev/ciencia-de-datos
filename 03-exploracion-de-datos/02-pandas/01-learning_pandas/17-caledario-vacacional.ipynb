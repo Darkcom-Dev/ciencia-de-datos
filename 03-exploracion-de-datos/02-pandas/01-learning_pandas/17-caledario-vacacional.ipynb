{
 "cells": [
  {
   "cell_type": "markdown",
   "metadata": {},
   "source": [
    "# Capitulo 17: Calendario de vacaciones.\n",
    "\n",
    "#### Ejemplos.\n",
    "\n",
    "##### Crear un calendario personalizado.\n",
    "\n",
    "A continuación se explica cómo crear un calendario personalizado. El ejemplo dado es un calendario francés, por lo que proporciona muchos ejemplos."
   ]
  },
  {
   "cell_type": "code",
   "execution_count": 7,
   "metadata": {},
   "outputs": [],
   "source": [
    "from pandas.tseries.holiday import AbstractHolidayCalendar, Holiday, EasterMonday, Easter\n",
    "from pandas.tseries.offsets import CustomBusinessDay, Day\n",
    "\n",
    "class FrBussinessCalendar(AbstractHolidayCalendar):\n",
    "   rules = [\n",
    "        Holiday('New Years Day', month=1, day=1),\n",
    "        Holiday('Labour Day', month=5, day=1),\n",
    "        Holiday('Victory in Europe Day', month=5, day=8),\n",
    "        Holiday('Ascension Day', month=1, day=1, offset=[Easter(), Day(39)]),\n",
    "        Holiday('Bastille Day', month=7, day=14),\n",
    "        Holiday('Assumption of Mary to Heaven', month=8, day=15),\n",
    "        Holiday('All Saints Day', month=11, day=1),\n",
    "        Holiday('Armistice Day', month=11, day=11),\n",
    "        Holiday('Christmas Day', month=12, day=25)\n",
    "    ]"
   ]
  },
  {
   "cell_type": "markdown",
   "metadata": {},
   "source": [
    "Usar un calendario personalizado."
   ]
  },
  {
   "cell_type": "code",
   "execution_count": 8,
   "metadata": {},
   "outputs": [
    {
     "data": {
      "text/plain": [
       "DatetimeIndex(['2016-01-01', '2016-05-01', '2016-05-05', '2016-05-08',\n",
       "               '2016-07-14', '2016-08-15', '2016-11-01', '2016-11-11',\n",
       "               '2016-12-25'],\n",
       "              dtype='datetime64[ns]', freq=None)"
      ]
     },
     "execution_count": 8,
     "metadata": {},
     "output_type": "execute_result"
    }
   ],
   "source": [
    "import pandas as pd\n",
    "from datetime import date\n",
    "\n",
    "year = 2016\n",
    "start = date(year, 1, 1)\n",
    "end = start + pd.offsets.MonthEnd(12)\n",
    "\n",
    "# Creando un calendario personalizado\n",
    "cal = FrBussinessCalendar()\n",
    "# Obteniendo las vacaciones (off-days) entre dos fechas\n",
    "cal.holidays(start=start, end=end)"
   ]
  },
  {
   "cell_type": "markdown",
   "metadata": {},
   "source": [
    "#### Contando el numero de dias entre dos fechas.\n",
    "\n",
    "A veces resulta útil obtener el número de días laborables por mes, independientemente del año pasado o futuro. A continuación se explica cómo hacerlo con un calendario personalizado.\n"
   ]
  },
  {
   "cell_type": "code",
   "execution_count": 9,
   "metadata": {},
   "outputs": [
    {
     "data": {
      "text/plain": [
       "1    20\n",
       "2    21\n",
       "3    23\n",
       "4    21\n",
       "5    21\n",
       "dtype: int64"
      ]
     },
     "execution_count": 9,
     "metadata": {},
     "output_type": "execute_result"
    }
   ],
   "source": [
    "from pandas.tseries.offsets import CDay\n",
    "\n",
    "# Creando una serie de fechas entre los limites\n",
    "se = pd.bdate_range(start, end, freq=CDay(calendar=cal)).to_series()\n",
    "\n",
    "se.groupby(se.dt.month).count().head()"
   ]
  },
  {
   "cell_type": "markdown",
   "metadata": {},
   "source": [
    "Read Holiday Calendars [online:](https://riptutorial.com/pandas/topic/7976/holiday-calendars)"
   ]
  }
 ],
 "metadata": {
  "kernelspec": {
   "display_name": "venv",
   "language": "python",
   "name": "python3"
  },
  "language_info": {
   "codemirror_mode": {
    "name": "ipython",
    "version": 3
   },
   "file_extension": ".py",
   "mimetype": "text/x-python",
   "name": "python",
   "nbconvert_exporter": "python",
   "pygments_lexer": "ipython3",
   "version": "3.9.2"
  }
 },
 "nbformat": 4,
 "nbformat_minor": 2
}
