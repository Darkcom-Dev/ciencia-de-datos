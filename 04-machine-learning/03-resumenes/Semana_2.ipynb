{
 "cells": [
  {
   "cell_type": "markdown",
   "metadata": {},
   "source": [
    "# Clase 2 - Python CLI\n",
    "\n",
    "## Libreria argparse\n",
    "\n",
    "La libreria **argparse** es un **input()** pero con esteroides, hace que tu script reciba argumentos de terminal y procese las entradas y lo convierta en un dato mas manejable que un simple string que debes manipular para separa manualmente los parametros de los argumentos.\n",
    "\n",
    "Para saber mas lea [02_aplicaciones_globales](../../01_Pre_requisitos/03_Python/02_aplicaciones_globales.ipynb)\n"
   ]
  },
  {
   "cell_type": "markdown",
   "metadata": {},
   "source": [
    "\n",
    "### Docstrings\n",
    "\n",
    "Los docstrings son comentarios multilinea que se escriben en la linea siguiente a la definicion de una **funcion** o de una **clase** con la intension de documentar el código.\n",
    "\n",
    "```python\n",
    "def mi_funcion(parametro1, parametro2):\n",
    "    \"\"\"\n",
    "    Esta es una descripción de mi_funcion.\n",
    "\n",
    "    Args:\n",
    "        parametro1 (tipo): Descripción del primer parámetro.\n",
    "        parametro2 (tipo): Descripción del segundo parámetro.\n",
    "\n",
    "    Returns:\n",
    "        tipo_de_retorno: Descripción del valor de retorno.\n",
    "    \"\"\"\n",
    "    # Código de la función aquí\n",
    "    pass\n",
    "\n",
    "```\n",
    "\n",
    "Para ver como funciona docstring despues de haber documentado, usa la funcion **help(funcion_o_clase_documentada)**\n",
    "\n",
    "Algunos IDE como VisualStudio Code, pueden ayudar a la lectura de los doctrings si estos son tratados como **texto en markdown**\n",
    "\n",
    "```python\n",
    "def mi_funcion(parametro1, parametro2):\n",
    "    \"\"\"\n",
    "    # Esta es una descripción de mi_funcion.\n",
    "\n",
    "    Args:\n",
    "        - parametro1 (tipo): **Descripción** del primer parámetro.\n",
    "        - parametro2 (tipo): _Descripción_ del segundo parámetro.\n",
    "\n",
    "    Returns:\n",
    "        tipo_de_retorno: Descripción del valor de retorno.\n",
    "    \"\"\"\n",
    "    # Código de la función aquí\n",
    "    pass\n",
    "\n",
    "```\n",
    "\n",
    "Los docstrings pueden convertirse facilmente en un documento HTML con ayuda de la libreria pydoc `python -m pydoc archivo_a_generar_documentacion.py`.\n",
    "- `python -m pydoc -b ` sirve para ver la documentacion desde lla web.\n",
    "- pero antes debes instalarlo `pip install pydoc`.\n",
    "\n",
    "Sin embargo hay opciones mas populares para documentar como **Sphinx, Doxygen o Read the Docs**\n",
    "\n",
    "-----\n"
   ]
  },
  {
   "cell_type": "markdown",
   "metadata": {},
   "source": [
    "### Logs\n",
    "\n",
    "Los logs sirven para generar archivos de texto que toma registros del comportamiento de un programa\n",
    "\n",
    "Existe la libreria **logging** para generar logs:\n",
    "```python\n",
    "import logging\n",
    "\n",
    "logging.basicConfig(filename= 'archivo.log',\n",
    "\t\t\tformat='%(asctime)s,%(msecs)d %(name)s %(levelname)s %(message)s'),\n",
    "\t\t\tdatefmt='%H:%M:%S',\n",
    "\t\t\tlevel=logging.DEBUG)\n",
    "\n",
    "logging.debug('mensaje de debug')\n",
    "logging.info('mensaje de info')\n",
    "logging.warning('mensaje de advertencia')\n",
    "logging.error('mensaje de error')\n",
    "logging.critical('mensaje critico')\n",
    "\n",
    "```\n",
    "-----\n"
   ]
  },
  {
   "cell_type": "markdown",
   "metadata": {},
   "source": [
    "### Cronjobs\n",
    "\n",
    "Es un comando de la terminal de Linux para crear **tareas programadas** como en windows.\n",
    "el comando que se usa en terminal es `crontab * * * * *` donde cada asterisco representa __minutos__, __horas__, __dia del mes__, __meses__, __dia de la semana__.\n",
    "\n",
    "- Para aprender a programar mejor estas tareas ve a [crontab guru](https://crontab.guru)\n",
    "- `crontab -l` sirve para ver la lista de tareas ya programadas\n",
    "- `crontab -e` sirve para programar una nueva tarea\n",
    "- `man crontab` Es el manual de uso del comando crontab si se tiene alguna duda."
   ]
  }
 ],
 "metadata": {
  "language_info": {
   "name": "python"
  }
 },
 "nbformat": 4,
 "nbformat_minor": 2
}
