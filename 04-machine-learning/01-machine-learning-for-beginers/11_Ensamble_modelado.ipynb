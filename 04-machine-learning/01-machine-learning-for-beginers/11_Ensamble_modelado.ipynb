{
 "cells": [
  {
   "cell_type": "markdown",
   "metadata": {},
   "source": [
    "# MODELADO EN CONJUNTO\n",
    "\n",
    "Una de las metodologías de aprendizaje automático más efectivas es el modelado en conjunto, también conocido como ensambles. El modelado en conjunto combina técnicas estadísticas para crear un modelo que produce una predicción unificada. Es mediante la combinación de estimaciones y siguiendo la sabiduría de la multitud que el modelado en conjunto realiza una clasificación final o resultado con un mejor rendimiento predictivo. Naturalmente, los modelos de conjunto son una elección popular cuando se trata de competiciones de aprendizaje automático como la Competencia de Netflix y las competiciones de Kaggle.\n",
    "\n",
    "Los modelos de conjunto pueden clasificarse en varias categorías, incluyendo modelos secuenciales, paralelos, homogéneos y heterogéneos. Comencemos por ver primero los modelos secuenciales y paralelos. Para los modelos de conjunto secuenciales, el error de predicción se reduce agregando pesos a los clasificadores que previamente clasificaron erróneamente los datos. Gradient boosting y AdaBoost son dos ejemplos de modelos secuenciales. Por el contrario, los modelos de conjunto paralelos funcionan simultáneamente y reducen el error promediando. Los árboles de decisión son un ejemplo de esta técnica.\n",
    "\n",
    "Los modelos de conjunto también pueden generarse utilizando una sola técnica con numerosas variaciones (conocido como un conjunto homogéneo) o a través de diferentes técnicas (conocido como un conjunto heterogéneo). Un ejemplo de un modelo de conjunto homogéneo serían numerosos árboles de decisión trabajando juntos para formar una única predicción (bagging). Mientras tanto, un ejemplo de un conjunto heterogéneo sería el uso de agrupamiento k-means o una red neuronal en colaboración con un modelo de árbol de decisión.\n",
    "\n",
    "Naturalmente, es importante seleccionar técnicas que se complementen entre sí.\n",
    "\n",
    "Las redes neuronales, por ejemplo, requieren datos completos para el análisis, mientras que los árboles de decisión pueden manejar eficazmente valores faltantes. Juntas, estas dos técnicas proporcionan valor agregado sobre un modelo homogéneo. La red neuronal predice con precisión la mayoría de las instancias que proporcionan un valor y el árbol de decisión garantiza que no haya resultados \"nulos\" que de lo contrario se incurrirían por valores faltantes en una red neuronal. La otra ventaja del modelado en conjunto es que las estimaciones agregadas generalmente son más precisas que cualquier estimación única.\n",
    "\n",
    "Existen varias subcategorías de modelado en conjunto; ya hemos tocado dos de estas en el capítulo anterior. Cuatro subcategorías populares de modelado en conjunto son bagging, boosting, un conjunto de modelos y stacking.\n",
    "\n",
    "Bagging, como sabemos, es una abreviatura de \"bootstrap aggregating\" y es un ejemplo de un conjunto homogéneo. Este método se basa en conjuntos de datos dibujados al azar y combina predicciones para diseñar un modelo unificado basado en un proceso de votación entre los datos de entrenamiento. Expresado de otra manera, el bagging es un proceso especial de promediado de modelos. Random forest, como sabemos, es un ejemplo popular de bagging.\n",
    "\n",
    "Boosting es una técnica alternativa popular que aborda el error y los datos clasificados incorrectamente por la iteración anterior para formar un modelo final. Gradient boosting y AdaBoost son ambos ejemplos populares de boosting.\n",
    "\n",
    "Un conjunto de modelos entrena numerosos modelos algorítmicos diferentes utilizando los mismos datos de entrenamiento y luego selecciona el que se desempeñó con mayor precisión en los datos de prueba.\n",
    "\n",
    "Stacking ejecuta múltiples modelos simultáneamente en los datos y combina esos resultados para producir un modelo final. Esta técnica es muy popular en competiciones de aprendizaje automático, incluida la Competencia de Netflix. (Celebrada entre 2006 y 2009, Netflix ofreció un premio por un modelo de aprendizaje automático que pudiera mejorar su sistema de recomendación para producir recomendaciones de películas más efectivas. Una de las técnicas ganadoras adoptó una forma de stacking lineal que combinaba predicciones de múltiples modelos predictivos.)\n",
    "\n",
    "Aunque los modelos de conjunto típicamente producen predicciones más precisas, una desventaja de esta metodología es, de hecho, el nivel de sofisticación.\n",
    "\n",
    "Los conjuntos enfrentan el mismo dilema entre precisión y simplicidad que un solo árbol de decisión versus un bosque aleatorio. La transparencia y la simplicidad de una técnica simple, como un árbol de decisión o vecinos más cercanos, se pierden e instantáneamente se mutan en una caja negra estadística. El rendimiento del modelo prevalecerá en la mayoría de los casos, pero la transparencia de su modelo es otro factor a considerar al determinar su metodología preferida."
   ]
  }
 ],
 "metadata": {
  "language_info": {
   "name": "python"
  }
 },
 "nbformat": 4,
 "nbformat_minor": 2
}
