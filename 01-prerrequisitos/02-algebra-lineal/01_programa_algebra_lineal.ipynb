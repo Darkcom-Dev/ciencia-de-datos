{
 "cells": [
  {
   "cell_type": "markdown",
   "metadata": {},
   "source": [
    "> **Nota**: Borraré en el futuro este programa, creo que es mejor el algebra de Poole\n",
    "\n",
    "# Algebra lineal\n",
    "\n",
    "1. Vectores (Vectores en R n . Combinaciones lineales)\n",
    "   1. Producto Punto (Longitud y ángulo)\n",
    "2. Operaciones Matriciales (toda la sección, excepto matrices particionadas)\n",
    "    1. Álgebra de matrices (toda la sección, excepto matrices linealmente independientes)\n",
    "    2. Grafos y Dígrafos\n",
    "3. Proyecciones\n",
    "    1. Introducción a los sistemas de ecuaciones lineales (Resolución de sistemas)\n",
    "4. Métodos directos de Resolución (Matrices y forma escalonada. Operaciones elementales de fila)\n",
    "5. Introducción a los sistemas de ecuaciones lineales (Resolución de sistemas)\n",
    "    1. Métodos directos de Resolución (Matrices y forma escalonada. Operaciones elementales de fila)\n",
    "    2. Métodos directos de Resolución (Eliminación Gaussiana. Eliminación por Gauss-Jordan. Sistemas\n",
    "homogéneos)\n",
    "6. Aplicaciones: Asignación de recursos. Análisis de redes.\n",
    "    1. Conjuntos generadores e independencia lineal.\n",
    "    2. Determinantes (Determinante de matrices nxn. Propiedades. Determinantes y operaciones\n",
    "matriciales)\n",
    "7. Inversa de una matriz (Propiedades. Método de Gauss-Jordan para calcular la inversa.)\n",
    "    1. Subespacios de R n (Definición y ejemplos. Subespacios asociados con matrices)\n",
    "    2. Bases y Dimensión en R n (Bases. Dimensión y rango. Coordenadas)\n",
    "    3. Transformaciones lineales en R n . (Definición y ejemplos. Propiedades. Transformaciones\n",
    "matriciales)\n",
    "    4. Composición e inversa de transformaciones lineales en R n .\n",
    "8. Espacios vectoriales y subespacios (ejemplos)\n",
    "    1. Independencia lineal, base y dimensión (ejemplos)\n",
    "    2. Transformaciones lineales. Composición de transformaciones lineales (Ejemplos). Inversas de\n",
    "Transformaciones Lineales.\n",
    "9. Núcleo e Imagen (Transformaciones inyectivas y sobreyectivas, isomorfismos)\n",
    "    1. Cambio de base en R n (Sin incluir la parte de matriz de una transformación respecto a distintas\n",
    "bases)\n",
    "10.  Introducción a los valores propios y vectores propios.\n",
    "    1. Valores y vectores propios de matrices de nxn.\n",
    "    2. Semejanza y diagonalización.\n",
    "    3. Ortogonalidad en R n (Conjuntos de vectores ortogonales y ortonormales. Matrices Ortogonales)\n",
    "    4. Complementos ortogonales y proyecciones ortogonales\n",
    "    5. El proceso de Gram-Schmidt\n",
    "    6. Diagonalización ortogonal de matrices simétricas.\n",
    "11.  Aplicaciones: Formas Cuadráticas. Graficación de Ecuaciones Cuadráticas. Ejemplos en 2\n",
    "    1. dimensiones. (Solamente rotación de ejes)"
   ]
  }
 ],
 "metadata": {
  "language_info": {
   "name": "python"
  }
 },
 "nbformat": 4,
 "nbformat_minor": 2
}
