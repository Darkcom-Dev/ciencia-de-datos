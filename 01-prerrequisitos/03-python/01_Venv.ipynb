{
 "cells": [
  {
   "cell_type": "markdown",
   "metadata": {},
   "source": [
    "# Venv\n",
    "\n",
    "Esta librería sirve para crear **entornos de trabajo**, es como un Docker pero para Python. Estos entornos de trabajo son **una buena práctica** para **preservar la compatibilidad** entre librerías y la versión de Python en particular. Funciona aislando la versión principal de Python instalada dentro del sistema operativo de la versión de Python instalada en el entorno virtual.\n",
    "\n",
    "- Se recomienda crear una carpeta principal llamada \"Entornos\" para no dispersar máquinas virtuales en todo el sistema operativo.\n",
    "- Para crear un entorno virtual, ejecuta `python -m venv web`, donde \"web\" es el nombre del entorno, pero este entorno no está activado aún.\n",
    "- Entra en la carpeta \"web\" creada por el entorno virtual; dentro deberías ver un script ejecutable llamado **activate**.\n",
    "- En la terminal, deberías ver la consola con este nombre `(web) ~/python/**`. Lo importante es notar que empieza con la palabra **(web)**.\n",
    "- Para instalar una librería dentro del entorno virtual, ejecuta `python -m pip install libreria`.\n",
    "- Para desactivar el entorno virtual, ejecuta el script **deactivate**.\n",
    "- Para eliminar un entorno virtual, simplemente elimina la carpeta del entorno virtual o ejecuta `rm -rf web`.\n",
    "\n",
    "```bash\n",
    "mi_proyecto/\n",
    "├── web/                  # Directorio del entorno virtual \"web\"\n",
    "│   ├── bin/              # Contiene los ejecutables del entorno virtual\n",
    "│   ├── include/\n",
    "│   ├── lib/\n",
    "│   └── ...\n",
    "├── scripts/              # Directorio para tus scripts de Python\n",
    "│   ├── script1.py\n",
    "│   ├── script2.py\n",
    "│   └── ...\n",
    "├── requirements.txt      # Archivo para especificar las dependencias\n",
    "├── README.md             # Documentación de tu proyecto\n",
    "├── ...\n",
    "```"
   ]
  },
  {
   "cell_type": "markdown",
   "metadata": {},
   "source": [
    "### Activar el entorno virtual\n",
    "\n",
    "En linux para activar el entorno virtual ejecuta el siguiente comando\n",
    "\n",
    "```sh\n",
    "source venv/bin/activate\n",
    "```"
   ]
  },
  {
   "cell_type": "markdown",
   "metadata": {},
   "source": [
    "### Script par automatizar la creación de un proyecto"
   ]
  },
  {
   "cell_type": "code",
   "execution_count": null,
   "metadata": {},
   "outputs": [],
   "source": [
    "# Creando un script que automatiza la creacion de un proyecto\n",
    "import os\n",
    "import subprocess\n",
    "\n",
    "def create_project(project_name):\n",
    "    # Crear un directorio para el proyecto\n",
    "    os.makedirs(project_name)\n",
    "    os.chdir(project_name)\n",
    "\n",
    "    # Crear un entorno virtual\n",
    "    subprocess.run(['python', '-m', 'venv', 'venv'])\n",
    "\n",
    "    # Crear un archivo main.py\n",
    "    with open('main.py', 'w') as main_file:\n",
    "        main_file.write(\"# Tu código principal va aquí\\n\")\n",
    "\n",
    "    # Crear un archivo requirements.txt (puedes personalizar las dependencias)\n",
    "    with open('requirements.txt', 'w') as requirements_file:\n",
    "        requirements_file.write(\"\")\n",
    "\n",
    "    # Crear un archivo README.md\n",
    "    with open('README.md', 'w') as readme_file:\n",
    "        readme_file.write(f\"# {project_name}\\n\\nDescripción de tu proyecto.\\n\")\n",
    "\n",
    "    # Inicializar un repositorio Git\n",
    "    subprocess.run(['git', 'init'])\n",
    "\n",
    "if __name__ == \"__main__\":\n",
    "    project_name = input(\"Nombre del proyecto: \")\n",
    "    create_project(project_name)\n",
    "    print(f\"Proyecto '{project_name}' creado con éxito.\")\n"
   ]
  },
  {
   "cell_type": "markdown",
   "metadata": {},
   "source": [
    "Claro, aquí tienes una versión mejorada del texto:\n",
    "\n",
    "---\n",
    "\n",
    "# Variables de Entorno\n",
    "\n",
    "Aunque `VENV` crea un entorno de desarrollo que aísla nuestro proyecto del entorno del sistema, también es importante aislar las variables de entorno del sistema de las variables de entorno del proyecto. Para lograr esto, es necesario instalar `dotenv` con el siguiente comando:\n",
    "\n",
    "```sh\n",
    "pip install python-dotenv\n",
    "```\n",
    "\n",
    "`dotenv` se utiliza junto con el módulo `os` y un archivo de configuración `.env`, donde se guardan los datos sensibles.\n",
    "\n",
    "Ejemplo del contenido del archivo `.env`:\n",
    "\n",
    "```env\n",
    "# Contenido del archivo .env\n",
    "PASSWORD=Admin123\n",
    "```\n",
    "\n",
    "Para cargar esta configuración en tu código Python, sigue estos pasos:\n",
    "\n",
    "```python\n",
    "from dotenv import load_dotenv\n",
    "import os\n",
    "\n",
    "load_dotenv()  # Carga el archivo .env\n",
    "password = os.getenv('PASSWORD')\n",
    "```\n",
    "\n",
    "Por último, añade el nombre del archivo `.env` en tu archivo `.gitignore` para evitar que el público tenga acceso a los datos sensibles y así proteger tu proyecto.\n"
   ]
  }
 ],
 "metadata": {
  "language_info": {
   "name": "python"
  }
 },
 "nbformat": 4,
 "nbformat_minor": 2
}
