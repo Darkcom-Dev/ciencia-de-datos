{
 "cells": [
  {
   "cell_type": "markdown",
   "metadata": {},
   "source": [
    "# Git\n",
    "\n",
    "Git es un sistema de control de versiones para repositorios locales. Basicamente crea una carpeta especial donde estamos creando nuestro proyecto, donde guarda los cambios en los _\"archivos o ficheros\"_, no solamente cambios de **código**, tambien lo hace con cualquier tipo de archivo, tanto imágenes como videos.\n",
    "\n",
    "En mi opinion creo que Git está sobrevalorado, porque para una persona que trabaja en solitario, **no tiene mucho sentido su uso**, esto realmente es potente cuando se usa en equipo.\n",
    "\n",
    "## 1. Saber si nuestro sistema tiene git instalado:\n",
    "\n",
    "Todas las distribuciones de Linux ya tiene git instalado en el sistema, pero en windows puede que no sea asi, lo primero que haremos es tratar de ejecutar git y ejecutar el comando que nos da su version.\n",
    "\n",
    "En este caso asumiré los siguientes pasos como si se hicieran desde una distribucion linux, porque es lo que tengo a mano. Si está usando **Windows** el procedimiento es similar, pero ya no me hago responsable."
   ]
  },
  {
   "cell_type": "code",
   "execution_count": 2,
   "metadata": {
    "vscode": {
     "languageId": "shellscript"
    }
   },
   "outputs": [
    {
     "name": "stdout",
     "output_type": "stream",
     "text": [
      "git version 2.30.2\n"
     ]
    }
   ],
   "source": [
    "%%bash\n",
    "git version\n"
   ]
  },
  {
   "cell_type": "markdown",
   "metadata": {},
   "source": [
    "En mi caso tengo la version 2.30.2, Si le arroja un numero de version quiere decir que ya lo tiene instalado y proceda a omitir la instalación.\n",
    "\n",
    "## Instalación de git en linux\n",
    "\n",
    "Si está instalando git desde Windows, descargue el ejecutable e instalelo.\n",
    "\n",
    "El siguiente comando ejecutelo desde una terminal, ya que jupyter no permite el comando **sudo** que otorga permisos de administrador."
   ]
  },
  {
   "cell_type": "code",
   "execution_count": null,
   "metadata": {
    "vscode": {
     "languageId": "shellscript"
    }
   },
   "outputs": [],
   "source": [
    "%%bash\n",
    "sudo apt install git"
   ]
  },
  {
   "cell_type": "markdown",
   "metadata": {},
   "source": [
    "## Creando el primer repositorio en local.\n",
    "\n",
    "- Cree una carpeta y nombrelo como quiera ('PostgreSQL_Dice_num_db'), este será la carpeta del proyecto.\n",
    "\n",
    "- Abra una terminal en la misma carpeta del proyecto y escriba el comando `git init`, esto iniciará el reositorio.\n"
   ]
  },
  {
   "cell_type": "code",
   "execution_count": 4,
   "metadata": {
    "vscode": {
     "languageId": "shellscript"
    }
   },
   "outputs": [
    {
     "name": "stdout",
     "output_type": "stream",
     "text": [
      "Reinicializado el repositorio Git existente en /home/darkcom/Proyectos/Python/blog_tutorials/Quickly_notes_for_Python/.git/\n"
     ]
    }
   ],
   "source": [
    "%%bash\n",
    "git init"
   ]
  },
  {
   "cell_type": "markdown",
   "metadata": {},
   "source": [
    "\n",
    "```bash\n",
    "hint: Using 'master' as the name for the initial branch. This default branch name\n",
    "hint: is subject to change. To configure the initial branch name to use in all\n",
    "hint: of your new repositories, which will suppress this warning, call:\n",
    "hint: \n",
    "hint:   git config --global init.defaultBranch <name>\n",
    "hint: \n",
    "hint: Names commonly chosen instead of 'master' are 'main', 'trunk' and\n",
    "hint: 'development'. The just-created branch can be renamed via this command:\n",
    "hint: \n",
    "hint:   git branch -m <name>\n",
    "\n",
    "```\n",
    "\n",
    "- compruebe en que estado está el repositorio con `git status`\n"
   ]
  },
  {
   "cell_type": "code",
   "execution_count": 5,
   "metadata": {
    "vscode": {
     "languageId": "shellscript"
    }
   },
   "outputs": [
    {
     "name": "stdout",
     "output_type": "stream",
     "text": [
      "En la rama main\n",
      "Tu rama está actualizada con 'origin/main'.\n",
      "\n",
      "Archivos sin seguimiento:\n",
      "  (usa \"git add <archivo>...\" para incluirlo a lo que se será confirmado)\n",
      "\tgit_&_github.ipynb\n",
      "\n",
      "no hay nada agregado al commit pero hay archivos sin seguimiento presentes (usa \"git add\" para hacerles seguimiento)\n"
     ]
    }
   ],
   "source": [
    "%%bash\n",
    "git status"
   ]
  },
  {
   "cell_type": "markdown",
   "metadata": {},
   "source": [
    "\n",
    "```bash\n",
    "On branch master\n",
    "\n",
    "No commits yet\n",
    "\n",
    "nothing to commit (create/copy files and use \"git add\" to track)\n",
    "```\n",
    "\n",
    "- Cree el archivo `requirements.txt` por si acaso usemos librerias de python, desde la terminal cree es archivo usando `touch requirements.txt`.\n"
   ]
  },
  {
   "cell_type": "code",
   "execution_count": 6,
   "metadata": {
    "vscode": {
     "languageId": "shellscript"
    }
   },
   "outputs": [],
   "source": [
    "%%bash\n",
    "touch requirements.txt"
   ]
  },
  {
   "cell_type": "markdown",
   "metadata": {},
   "source": [
    "- Cree el archivo `.gitignore` para ignorar archivos y carpetas que pudieran, use `touch .gitignore`.\n"
   ]
  },
  {
   "cell_type": "code",
   "execution_count": 7,
   "metadata": {
    "vscode": {
     "languageId": "shellscript"
    }
   },
   "outputs": [],
   "source": [
    "%%bash\n",
    "touch .gitignore"
   ]
  },
  {
   "cell_type": "markdown",
   "metadata": {},
   "source": [
    "- Ahora que tenemos archivos en la carpeta, añadamos estos al repositorio con el comando `git add .` el punto(.) es un comodin que indica que vamos a añadir todos los archivos que tienen cambios.\n"
   ]
  },
  {
   "cell_type": "code",
   "execution_count": 8,
   "metadata": {
    "vscode": {
     "languageId": "shellscript"
    }
   },
   "outputs": [],
   "source": [
    "%%bash\n",
    "git add ."
   ]
  },
  {
   "cell_type": "markdown",
   "metadata": {},
   "source": [
    "- Si es la primera vez que crea un repositorio, git le pedira configurar su nombre y su usuario.\n",
    "- Para configurar el nombre escriba `git config --global user.name 'nombre'`\n",
    "- Para configurar el usuario escriba git config `--global user.email 'email@email.com'`\n",
    "- Si tuvo que configurar nombre y usuario vuelva a agregar al repositorio usando `git add .`\n",
    "- Luego haga el primer commit `git commit -m 'mensaje del commit'` este mensaje es la manera que usaremos a futuro para identificar los cambios que hemos hecho en el repositorio, asegurese de poner nombres consisos y descriptivos que representen los cambios hechos al programa o repositorio."
   ]
  },
  {
   "cell_type": "code",
   "execution_count": 9,
   "metadata": {
    "vscode": {
     "languageId": "shellscript"
    }
   },
   "outputs": [
    {
     "name": "stdout",
     "output_type": "stream",
     "text": [
      "[main 33c2960] añadiendo el archivo requirements.txt y el archivo .gitignore\n",
      " 3 files changed, 124 insertions(+)\n",
      " create mode 100644 .gitignore\n",
      " create mode 100644 git_&_github.ipynb\n",
      " create mode 100644 requirements.txt\n"
     ]
    }
   ],
   "source": [
    "%%bash\n",
    "git commit -m 'añadiendo el archivo requirements.txt y el archivo .gitignore'"
   ]
  },
  {
   "cell_type": "markdown",
   "metadata": {},
   "source": [
    "Con esto ya hemos hecho nuestro primer repositorio, el proceso es repetitivo de aqui en adelante, solo es aplicar `git add .` a los nuevos cambios en los archivos y darle un identificador con `git commit -m 'mensaje identificador'` y comprobar siempre los cambios con `git status`\n",
    "\n",
    "Para ver los cambios que hemos estado haciendo, aplica el comando `git log`\n"
   ]
  },
  {
   "cell_type": "code",
   "execution_count": 11,
   "metadata": {
    "vscode": {
     "languageId": "shellscript"
    }
   },
   "outputs": [
    {
     "name": "stdout",
     "output_type": "stream",
     "text": [
      "commit 33c2960e80b847ec62e1cc8f3d2c81ec136553cf\n",
      "Author: Braulio Madrid <brauliomadrid.developer@gmail.com>\n",
      "Date:   Sun Jan 28 20:18:57 2024 -0500\n",
      "\n",
      "    añadiendo el archivo requirements.txt y el archivo .gitignore\n",
      "\n",
      "commit 55565c9810d146105c22a2b85e430616ba375081\n",
      "Merge: 84defea f265e83\n",
      "Author: Braulio Madrid <brauliomadrid.developer@gmail.com>\n",
      "Date:   Tue Dec 26 21:11:12 2023 -0500\n",
      "\n",
      "    Merge branch 'main' of https://github.com/Darkcom-Dev/Quickly_notes_for_Python\n",
      "\n",
      "commit 84defeaa637ef78261b8d94d5d45a962d73200d8\n",
      "Author: Braulio Madrid <brauliomadrid.developer@gmail.com>\n",
      "Date:   Tue Dec 26 21:09:12 2023 -0500\n",
      "\n",
      "    'Conflictos'\n",
      "\n",
      "commit f265e832461e780d509374cf29d9a23d34908fde\n",
      "Author: Braulio Madrid <32044580+Darkcom-Dev@users.noreply.github.com>\n",
      "Date:   Wed May 10 20:17:29 2023 -0500\n",
      "\n",
      "    Update Conectar_GIT_&_GitHub.md\n",
      "    \n",
      "    Agregando info de corrección del error de rechazo de historias\n",
      "\n",
      "commit aff1af6d7a86d2c95cb9e3fb032f3ba6d67a2f15\n",
      "Author: Darkcom-Dev <brauliomadrid.developer@gmail.com>\n",
      "Date:   Wed Apr 27 16:32:37 2022 -0500\n",
      "\n",
      "    Adding Solid principles\n",
      "\n",
      "commit 13f99e399e3783ec4d8397f0e3d4f569403ec887\n",
      "Author: Darkcom-Dev <brauliomadrid.developer@gmail.com>\n",
      "Date:   Wed Mar 23 20:19:13 2022 -0500\n",
      "\n",
      "    Separando texto de librerias\n",
      "\n",
      "commit 363a73a1f40e60502c0e5339e84d5cacd603183b\n",
      "Author: Darkcom-Dev <brauliomadrid.developer@gmail.com>\n",
      "Date:   Wed Mar 23 19:29:12 2022 -0500\n",
      "\n",
      "    Corrigiendo nuevamente Conectar GIT\n",
      "\n",
      "commit 3552b50b8b13fbbd4dbb0408e23c1be344a84e00\n"
     ]
    },
    {
     "name": "stdout",
     "output_type": "stream",
     "text": [
      "Author: Darkcom-Dev <brauliomadrid.developer@gmail.com>\n",
      "Date:   Wed Mar 23 19:25:18 2022 -0500\n",
      "\n",
      "    Corrigiendo Conectar GIT\n",
      "\n",
      "commit 97ee2e4af41555bbe661d439e90106fdd1510a76\n",
      "Author: Darkcom-Dev <brauliomadrid.developer@gmail.com>\n",
      "Date:   Wed Mar 23 19:20:01 2022 -0500\n",
      "\n",
      "    Ingreso del archivo Conectar_GIT&GitHub\n",
      "\n",
      "commit 32faa07f9bb63c65525e88fd5f84eeae867b705b\n",
      "Author: Darkcom-Dev <brauliomadrid.developer@gmail.com>\n",
      "Date:   Wed Mar 23 18:06:39 2022 -0500\n",
      "\n",
      "    Subiendo la lista de librerias como prueba\n",
      "\n",
      "commit 4e75da908478dd187c09114f15d3e88962993063\n",
      "Author: Braulio Madrid <32044580+Darkcom-Dev@users.noreply.github.com>\n",
      "Date:   Wed Mar 23 17:40:16 2022 -0500\n",
      "\n",
      "    Initial commit\n"
     ]
    }
   ],
   "source": [
    "%%bash\n",
    "git log"
   ]
  },
  {
   "cell_type": "markdown",
   "metadata": {},
   "source": [
    "----------------------------------------\n",
    "# Conectando los repositorios de GIT y GitHub.\n",
    "\n",
    "Este ha sido un chicharron que apenas logro resolver, como veran no soy muy experto en GIT y llevo mucho tiempo sin sobrevivir\n",
    "con esta herramienta que no le veo la gracia, sin embargo creé un repositorio para escribir solo documentacion, mis notas\n",
    "personales que contendra todo tipo de temas relacionados con Python.\n",
    "\n"
   ]
  },
  {
   "cell_type": "markdown",
   "metadata": {},
   "source": [
    "## Configurando GitHub.\n",
    "\n",
    "- Ingresa a la cuenta de GitHub o crear una cuenta\n",
    "- Crear un repositorio.\n",
    "<img src='res/Nuevo_Repo.png'>\n",
    "- Agrega Titlulo y Descricion.\n",
    "  \n",
    "<img src='res/New_Name_Descrit.png'>\n",
    "\n",
    "- En la pestaña del titulo del repositorio hay un boton verde 'Code ⇓'\n",
    "\n",
    "\n",
    "- De las opciones HTTPS | SSH | GitHub CLI - elige HTTPS y copia el enlace\n",
    "\n",
    "\n",
    "<img src='res/Code_Button.png'>\n",
    "\n"
   ]
  },
  {
   "cell_type": "markdown",
   "metadata": {},
   "source": [
    "## Configurar el Token.\n",
    "\n",
    "1. Ingresa a la cuenta\n",
    "2. Clic en el Logo del Avatar/Settings/Developer settings/Personal Access Token\n",
    "3. Clic en Generate token, escribe un titulo para el token\n",
    "4. Selecciona los permisos necesarios y Clic en generar token\n",
    "\n",
    "<img src='res/Settings.png'>\n",
    "\n",
    "5. Guarda el nombre y el token: El titulo del token sirve como **nombre de usuario** dentro de GIT y el codigo del **token sirve como contraseña**.\n",
    "\n",
    "> Nota: para poder crear un token debe estar habilitado el **doble factor de autenticacion**.\n"
   ]
  },
  {
   "cell_type": "markdown",
   "metadata": {},
   "source": [
    "## Conectar GIT con el repositorio de GitHub.\n",
    "\n",
    "1. Crear una carpeta con el mismo nombre del repositorio de GitHub.\n",
    "2. Mueva o cree los archivos dentro de la carpeta de repositorio.\n",
    "3. Abrir una terminal en la misma carpeta de repositorio.\n",
    "4. Escriba los siguientes comandos:\n",
    "```bash\n",
    "git init # Convierte la carpeta del sistema en una carpeta de repositorio. \n",
    "(Si crea el repositorio desde GitHub es mejor usar git clone)\n",
    "git pull 'Direccion HTTPS del repositorio de GitHub' # Esto baja los archivos del repositorio y hace fetch.\n",
    "#(Si crea el repositorio desde GitHub, con git clone no es necesario el comando git pull)\n",
    "git status # Esto mostrará los archivos que no sea han agregado a la rama principal.\n",
    "git add . # Esto agrega los archivos al commit\n",
    "git commit -m 'Escribe un mensaje' # Esto crea un mensaje junto a los archivos\n",
    "```\n",
    "En este punto puede que te pida configurar GIT con nombre de usuario y email, Escribe el mismo nombre de usuario de GitHub y \n",
    "el mismo correo con el que registraste de cuenta de GitHub.\n",
    "```bash\n",
    "git branch -M main # Crea una rama en este caso main\n",
    "git pull -u origin main # Hace una peticion de envio desde el origen(local) a main(GitHub)\n",
    "```\n",
    "En este paso te pide un nombre de usuario que es el titulo del token y una contraseña que es codigo del token.\n",
    "\n"
   ]
  },
  {
   "cell_type": "markdown",
   "metadata": {},
   "source": [
    "## Como solucionar el error de rechazo de historias.\n",
    "\n",
    "Esto ocurre porque has creado un proyecto en una carpeta local en tu propio PC que no tiene relacion con un repositorio de Github. algo comun que hacemos es conectarnos a Github, Crear un repositorio con el nombre de nuestro proyecto y luego tratar de conectar nuestro repositorio personal usando los comandos de Git. pero como tienen archivos distintos y las ramas son ditintas se presenta este conflicto.\n",
    "\n",
    "Para solucionarlo:\n",
    "\n",
    "1. Crea el repositorio, pero no agregues un archivo readme.md y tampoco una licencia.\n",
    "2. Comprueba que tengas los cambios actualizados con `git status`, actualiza de ser necesarios con `git add .` y `git commit -m \"mensaje\"`.\n",
    "3. Agrega el parametro `--allow-unrelated-histories` al pull "
   ]
  },
  {
   "cell_type": "code",
   "execution_count": null,
   "metadata": {
    "vscode": {
     "languageId": "shellscript"
    }
   },
   "outputs": [],
   "source": [
    "%%bash\n",
    "git pull --allow-unrelated-histories <URL-del-repositorio-remoto>."
   ]
  },
  {
   "cell_type": "markdown",
   "metadata": {},
   "source": [
    "Esto permitirá mezclar las ramas de los repositorios local y github, pero generará conflictos si existen archivos coincidentes, por es necesario el cumplir el punto 1.\n",
    "4. Agrega el repositorio remoto de GitHub utilizando el comando:"
   ]
  },
  {
   "cell_type": "code",
   "execution_count": null,
   "metadata": {
    "vscode": {
     "languageId": "shellscript"
    }
   },
   "outputs": [],
   "source": [
    " %%bash\n",
    " `git remote add origin <URL-del-repositorio-remoto>`.\n"
   ]
  },
  {
   "cell_type": "markdown",
   "metadata": {},
   "source": [
    "5. Envía los cambios al repositorio remoto utilizando el comando `git push -u origin master`. Si estás trabajando en una rama diferente a la rama principal, reemplaza \"master\" con el nombre de tu rama.\n",
    "\n",
    "Con esto es mas que suficiente y deberia funcionar corretamente.\n",
    "\n"
   ]
  },
  {
   "cell_type": "markdown",
   "metadata": {},
   "source": [
    "### Hoja de Trucos\n",
    "\n",
    "#### CONFIGURACIÓN\n",
    "Configuración de la información del usuario utilizada en todos los repositorios locales\n",
    "\n",
    "| Comando | Descripción |\n",
    "| ------- | ----------- |\n",
    "| `git config --global user.name “[nombre apellido]”` | establecer un nombre que sea identificable para recibir crédito al revisar el historial de versiones |\n",
    "| `git config --global user.email “[correo-electrónico-válido]”` | establecer una dirección de correo electrónico que se asociará con cada marcador de historial |\n",
    "| `git config --global color.ui auto` | configurar el color automático en la línea de comandos de Git para una revisión fácil |\n",
    "\n",
    "#### CONFIGURACIÓN E INICIALIZACIÓN\n",
    "Configuración de información de usuario, inicialización y clonación de repositorios\n",
    "\n",
    "| Comando | Descripción |\n",
    "| ------- | ----------- |\n",
    "| `git init` | inicializar un directorio existente como un repositorio Git |\n",
    "| `git clone [url]` | recuperar un repositorio completo desde una ubicación alojada a través de una URL |\n",
    "\n",
    "#### ETAPA Y CAPTURA\n",
    "Trabajar con instantáneas y el área de preparación de Git\n",
    "\n",
    "| Comando | Descripción |\n",
    "| ------- | ----------- |\n",
    "| `git status` | muestra archivos modificados en el directorio de trabajo, preparados para tu próximo commit |\n",
    "| `git add [archivo]` | agregar un archivo tal como está ahora a tu próximo commit (etapa) |\n",
    "| `git reset [archivo]` | quitar un archivo de la etapa manteniendo los cambios en el directorio de trabajo |\n",
    "| `git diff` | diferencia de lo que ha cambiado pero no se ha etapado |\n",
    "| `git diff --staged` | diferencia de lo que está etapado pero aún no se ha commiteado |\n",
    "| `git commit -m “[mensaje descriptivo]”` | confirmar tu contenido preparado como una nueva instantánea de commit |\n",
    "\n",
    "#### RAMA Y FUSIÓN\n",
    "Aislamiento de trabajo en ramas, cambio de contexto e integración de cambios\n",
    "\n",
    "| Comando | Descripción |\n",
    "| ------- | ----------- |\n",
    "| `git branch` | lista tus ramas. aparecerá un * junto a la rama activa actualmente |\n",
    "| `git branch [nombre-rama]` | crear una nueva rama en el commit actual |\n",
    "| `git checkout` | cambiar a otra rama y verificarla en tu directorio de trabajo |\n",
    "| `git merge [rama]` | fusionar el historial de la rama especificada en la actual |\n",
    "| `git log` | muestra todos los commits en el historial de la rama actual |\n",
    "\n",
    "#### INSPECCIONAR Y COMPARAR\n",
    "Examinar registros, diferencias e información de objetos\n",
    "\n",
    "| Comando | Descripción |\n",
    "| ------- | ----------- |\n",
    "| `git log` | muestra el historial de commits para la rama actualmente activa |\n",
    "| `git log ramaB..ramaA` | muestra los commits en la ramaA que no están en la ramaB |\n",
    "| `git log --follow [archivo]` | muestra los commits que cambiaron el archivo, incluso a través de renombramientos |\n",
    "| `git diff ramaB...ramaA` | muestra la diferencia de lo que hay en la ramaA que no está en la ramaB |\n",
    "| `git show [SHA]` | muestra cualquier objeto en Git en formato legible por humanos |\n",
    "\n",
    "#### SEGUIMIENTO DE CAMBIOS DE RUTA\n",
    "Versionar eliminaciones de archivos y cambios de ruta\n",
    "\n",
    "| Comando | Descripción |\n",
    "| ------- | ----------- |\n",
    "| `git rm [archivo]` | eliminar el archivo del proyecto y etapar la eliminación para el commit |\n",
    "| `git mv [ruta-existente] [nueva-ruta]` | cambiar la ruta de un archivo existente y etapar el movimiento |\n",
    "| `git log --stat -M` | muestra todos los logs de commit con indicación de cualquier ruta que se haya movido |\n",
    "\n",
    "#### COMPARTIR Y ACTUALIZAR\n",
    "Recuperar actualizaciones de otro repositorio y actualizar repositorios locales\n",
    "\n",
    "| Comando | Descripción |\n",
    "| ------- | ----------- |\n",
    "| `git remote add [alias] [url]` | agregar una URL de git como un alias |\n",
    "| `git fetch [alias]` | traer todas las ramas de ese control remoto Git |\n",
    "| `git merge [alias]/[rama]` | fusionar una rama remota en tu rama actual para actualizarla |\n",
    "| `git push [alias] [rama]` | transmitir los commits de la rama local al repositorio remoto |\n",
    "| `git pull` | traer y fusionar cualquier commit desde la rama remota de seguimiento |\n",
    "\n",
    "#### REESCRIBIR HISTORIAL\n",
    "Reescribir ramas, actualizar commits y limpiar el historial\n",
    "\n",
    "| Comando | Descripción |\n",
    "| ------- | ----------- |\n",
    "| `git rebase [rama]` | aplicar cualquier commit de la rama actual por delante de la especificada |\n",
    "| `git reset --hard [commit]`\n",
    "\n",
    " | limpiar el área de preparación, reescribir el árbol de trabajo desde el commit especificado |\n",
    "\n",
    "#### COMMITS TEMPORALES\n",
    "Almacenar temporalmente archivos modificados y rastreados para cambiar ramas\n",
    "\n",
    "| Comando | Descripción |\n",
    "| ------- | ----------- |\n",
    "| `git stash` | guardar cambios modificados y preparados |\n",
    "| `git stash list` | listar en orden de pila los cambios de archivos guardados |\n",
    "| `git stash pop` | extraer cambios del tope de la pila de stash |\n",
    "| `git stash drop` | descartar los cambios del tope de la pila de stash |\n",
    "\n",
    "#### IGNORAR PATRONES\n",
    "Evitar la etapación o confirmación involuntaria de archivos\n",
    "\n",
    "```\n",
    "logs/\n",
    "*.notes\n",
    "patrón*/\n",
    "```\n",
    "Guardar un archivo con los patrones deseados como .gitignore con coincidencias de cadenas directas o comodines.\n",
    "\n",
    "| Comando | Descripción |\n",
    "| ------- | ----------- |\n",
    "| `git config --global core.excludesfile [archivo]` | patrón de ignorar a nivel del sistema para todos los repositorios locales |"
   ]
  }
 ],
 "metadata": {
  "kernelspec": {
   "display_name": "Python 3 (ipykernel)",
   "language": "python",
   "name": "python3"
  },
  "language_info": {
   "codemirror_mode": {
    "name": "ipython",
    "version": 3
   },
   "file_extension": ".py",
   "mimetype": "text/x-python",
   "name": "python",
   "nbconvert_exporter": "python",
   "pygments_lexer": "ipython3",
   "version": "3.9.2"
  }
 },
 "nbformat": 4,
 "nbformat_minor": 4
}
