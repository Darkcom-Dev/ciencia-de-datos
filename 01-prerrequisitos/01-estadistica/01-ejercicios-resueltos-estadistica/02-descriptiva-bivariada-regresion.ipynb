{
 "cells": [
  {
   "cell_type": "markdown",
   "metadata": {},
   "source": [
    "## Decripticiones bivarianttes y regresión"
   ]
  },
  {
   "cell_type": "markdown",
   "metadata": {},
   "source": [
    "#### Ejercicio 1\n",
    "\n",
    "En un estudio de la Seguridad e Higiene en el Trabajo se contrastó la incidencia del tabaquismo en la gravedad de los accidentes laborales. Considerando una gradación de Muy fumador hasta No fumador como media del tabaquismo, y una gradación de Muy grave a Leve en el tipo de accidente. Se extrajo una muestra de 525 individuos que habían sufrido un accidente laboral. Los resultados se presentan en la siguiente tabla de contingencia(tabla de doble entrada):\n",
    "\n",
    "|Descrip |Muy grave | Grave | Media |  Leves|\n",
    "|--------|----------|-------|-------|-------|\n",
    "|Muy fumador|20|10|10|30|\n",
    "|Fumador    |30|40|20|50|\n",
    "|Esporadico |10|60|80|60|\n",
    "|No Fumador |05|20|30|50|\n",
    "\n",
    "1. Representar los datos anteriores gráficamente\n",
    "2. Calcular las distribuciones marginales para cada una de las variables de estudio.\n",
    "3. Construir una tabla de distribución de frecuencias porcentuales donde aparezcan\n",
    "las distribuciones de la variable de tipo de Lesión condicionada a cada una de las\n",
    "variables del Fumador.\n",
    "4. Estudiar si las variables están asociadas o no por medio de una medida\n",
    "descriptiva. Realizar un análisis gráfico y comentar los resultados."
   ]
  },
  {
   "cell_type": "code",
   "execution_count": null,
   "metadata": {},
   "outputs": [],
   "source": [
    "## \n",
    "muy_gave = [20, 30, 10, 5]\n",
    "grave = [10, 40, 60, 20]\n",
    "media = [10, 20, 80, 30]\n",
    "leve = [30, 50, 60, 50]"
   ]
  },
  {
   "attachments": {
    "image.png": {
     "image/png": "[encoded data removed]"
    }
   },
   "cell_type": "markdown",
   "metadata": {},
   "source": [
    "#### Solución 1.\n",
    "\n",
    "![image.png](attachment:image.png)\n",
    "\n",
    "Se obtiene a partir de la tabla de doble entrada sumando las frecuencias y las filas, o bien por columnas según el caso.\n",
    "\n",
    "|Marg. Tabaquismo |FREC. |Marg.Accid.Lab. |FREC.|\n",
    "|-----------------|------|----------------|-----|\n",
    "|Muy fumador      |70    |Muy grave   ----|65   |\n",
    "|Fumador          |140   |Grave       ----|130  |\n",
    "|Esporádico       |210   |Media       ----|140  |\n",
    "|No fumador       |105   |Leve        ----|190  |\n",
    "||525||525|\n",
    "\n",
    "La distribución de una variable condicionada a que otra variable tome un determinado valor de la distribución de frecuencias de la variable cuando mantenemos fijo el valor condicionante de otra variable.\n",
    "\n",
    "|#          |Muy Grave  | Grave | Lesión Med.   |Leve |\n",
    "|-----------|-----------|-------|---------------|-----|\n",
    "|Muy Fum.   |28.57      |14.29  |14.29 |42.86 |100%|\n",
    "|Fumador    |21.43      |28.57  |14.29 |35.71 |100%|\n",
    "|Fum.Espor. |4.76       |28.57  |38.10 |28.57 |100%|\n",
    "|No Fum.    |4.76       |19.05  |28.57 |47.62 |100%|\n",
    "|Marg.Lesión|12.38      |24.76  |26.67 |36.19 |100%|\n",
    "\n",
    "Como ejemplo del cálculo de la distribución porcentual del Tipo de lesión condicionado al individuo sea Muy Fumador se realizará dividiendo cada una de las frecuencias de la fila Fumador entre el número total de Muy Fumadores y después multiplicariamos como\n",
    "$((20/70)*100=28.57; (10/70)*100=14.29,...).$\n",
    "\n",
    "(Este apartado lo vamos a realizar sobre una misma tabla)\n",
    "\n",
    "La medida descriptiva de la asociación entre las variables viene dada a través de la medida que indica la distancia relativa que existe entre la tabla de frecuencias observadas en la tabla de frecuencias esperadas si las variables fueran independientes. \n",
    "\n",
    "La expresión para las frecuencias esperadas es la siguiente:\n",
    "$$E_{ij}=\\frac{F_i·C_j}{n}$$\n",
    "Donde $E$ es la frecuencia esperada en la celda (i,j), $F$ es la suma de las frecuencias de $f$ y $C$ es la suma de las frecuencias de la fila $j$.\n",
    "\n",
    "La distancia relativa al cuadrado que existe entre una celda de la tabla de frecuencias observadas es la misma celda de la tabla de esperadas viene dada por:\n",
    "\n",
    "$$Z_{ij}^2 = \\frac{(O_{ij}-E_{ij})^2}{E_{ij}}$$\n",
    "\n",
    "Y la suma de todas ellas recibe el nombre de $x^2$ (ji-cuadrado).\n",
    "\n",
    "Por otra parte podemos estudiar cuáles son los pares de categorías que influyen en mayor medida en la existencia de la asociación. Este lo realizaremos por medio de análisis gráfico atendiendo al siguiente criterio:\n",
    "\n",
    "- $[z_{ij}]<1.645$, le asignaremos el símbolo . (influencia muy débil)\n",
    "- $1.645<[z_{ij}] 1.960$, le asignamos o. (influencia débil)\n",
    "- $1.960<[z_{ij}] 2.576$ le asignamos O (influencia fuerte)\n",
    "- $[z_{ij}] >2.576$, le asignamos @ (influencia muy fuerte)\n",
    "La tabla donde se refleja lo expuesto es la siguiente:\n",
    "\n",
    "|#|Muy Grave |Grave |Lesión Med.| Leve |Marg.Tab|\n",
    "|-|----------|------|-----------|------|--------|\n",
    "|M.F Obs.   |20 |10 |10 |30 |70|\n",
    "|M.F Esp    |8.667 |17.333 |18.667 |25.333 |70|\n",
    "|M.F z      |3.850 |-1.761 |-2.006 |0.927 |70|\n",
    "|M.F Sim.   |@ |O |O |. |70|\n",
    "|F. Obs.    |30 |40 |20 |50 |140|\n",
    "|F Esp.     |17.333 |34.667 |37.333 |50.667 |140|\n",
    "|F: z       |3.043 |0.906 |-2.837 |-0.094 |140|\n",
    "|F. Sim.    |@ |. |@ |. |140|\n",
    "|F.E Obs.   |10 |60 |80 |60 |210|\n",
    "|F.E Esp.   |26 |52 |56 |76 |210|\n",
    "|F.E z      |-3.138 |1.109 |3.207 |-1.835 |210|\n",
    "|F.E Sim.   |@ |. |@ |O |210|\n",
    "|No F. Obs. |5 |20 |30 |50 |105|\n",
    "|No F. Esp. |13 |26 |28 |38 |105|\n",
    "|No F. z    |-2.219 |-1.177 |0.378 |1.947 |105|\n",
    "|No F. Sim..|O |O |. |o |105|\n",
    "|Marg. Les  |65 |130 |140 |190 |525|\n",
    "\n",
    "$X^2 = 75.917$ este valor depende del tamaño de la muestra y de la forma de la tabla, por tanto utilizaremos el valor $V$ de Cramer como medida descriptiva de la asociación entre variables, esta medida esta comprendida entre 0 y 1, siendo las variables independientes cuande vale 0 y existiendo asociación perfecta cuando vale1. La expresión para $V$ es:\n",
    "\n",
    "$$V=\\sqrt{\\frac{x^2}{nx[min(filas·columnas)-1]}}$$\n",
    "\n",
    "En este caso vale 0.220."
   ]
  },
  {
   "cell_type": "markdown",
   "metadata": {},
   "source": []
  }
 ],
 "metadata": {
  "language_info": {
   "name": "python"
  }
 },
 "nbformat": 4,
 "nbformat_minor": 2
}
