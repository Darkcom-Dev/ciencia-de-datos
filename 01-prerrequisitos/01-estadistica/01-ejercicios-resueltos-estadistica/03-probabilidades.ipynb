{
 "cells": [
  {
   "cell_type": "markdown",
   "metadata": {},
   "source": [
    "# Probabilidades.\n"
   ]
  },
  {
   "cell_type": "markdown",
   "metadata": {},
   "source": [
    "#### Ejercicio 1.\n",
    "\n",
    "Se lanzan 20 monedas en las que la probabilidad de cara es de 0,6. Calcular cual es el número mas probable de caras y qué probabilidad hay de que salga dicho número."
   ]
  },
  {
   "cell_type": "markdown",
   "metadata": {},
   "source": [
    "#### Solución 1.\n",
    "\n",
    "El número de caras obtenido al lanzar 20 monedas es una variable aleatoria con distribución binomial de parámetros $B(20;0,6)$. El número mas probable de caras es\n",
    "$20 ⋅ 0 , 6 − 0 , 4 ≤ m ≤ 20 ⋅ 0 , 6 + 0 , 6 ⇒ 11 , 6 ≤ m ≤ 12 , 6$ . Luego el número mas probable de caras es 12, y la probabilidad de 12 caras es:\n",
    "\n",
    "$$(X=12)=(\\frac{20}{12})·0.6^{12}·0.4^8= \\frac{20!}{12!8!}·0.0022·0.0007=0.0202$$"
   ]
  },
  {
   "cell_type": "code",
   "execution_count": null,
   "metadata": {},
   "outputs": [],
   "source": []
  }
 ],
 "metadata": {
  "language_info": {
   "name": "python"
  }
 },
 "nbformat": 4,
 "nbformat_minor": 2
}
