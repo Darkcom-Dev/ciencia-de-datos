{
 "cells": [
  {
   "cell_type": "code",
   "execution_count": null,
   "id": "7c576477-0de8-4a17-861e-9595a5bbb4ce",
   "metadata": {},
   "outputs": [],
   "source": []
  },
  {
   "cell_type": "markdown",
   "id": "55c76e50-53af-4245-98f5-e21471b9496e",
   "metadata": {},
   "source": [
    "# Trucos generales en cualquier proyecto de Python\n",
    "\n",
    "Hacer un proyecto complejo no es solo crear una carpeta, crear archivos .py y luego instalar dependencias descuidadamente, hay que tener unas buenas practicas que aseguren la calidad y la seguridad del proyecto.\n",
    "\n",
    "1. Hay que empezar por crear la carpeta que contendrá el proyecto y el nombre debe seguir alguna convencion de nombres de variables, como en este caso python sigue la convencion snake_case, hay que usar snake_case para el nombre de archivos y carpetas.\n",
    "2. Usa estructuras de carpetas estandarizadas de acuerdo al tipo de proyecto que estes desarrollando, sino crea una estructura que tenga sentido.\n",
    "3. Hay que crear un entorno que aisle las librerias del proyecto de las librerias del sistema operativo, para esto es mejor usar un entorno viertual como [venv](Venv.ipynb) <- despues corrijo. tengo un cuaderno que explica mas a detalle este punto.\n",
    "4. Si la aplicación usa datos sensibles como contraseñas, claves, nombres de personas, etc es necesario usar variables de entorno como dotenv o pyenv, pero tambien hay que ver cual es el estandar segun el tipo de proyecto, sobretodo si es una web que necesita ser deplegada. Estos archivos .env debes usarlo para guardar datos sensibles en variables y luego asegurarse que sea ignorado en el repositori para que no sea de acceso público.\n",
    "5. Usar Git para controlar las versiones de tu código he ir versionando constantemente y con cambios consistentes, esto te salvará la vida si llegas a cometer un error grave.\n",
    "6. Ojo con el archivo `.gitignore` en el deberas colocar el nombre de todos archivos y carpetas que deben ser ignorados en caso de que el proyecto deba subirse a GitHub, pero lo mas importante es que SI o SI debe estar el nombre del archivo .env para evitar que se publique informacion personal a GitHub.\n",
    "7. Usa GitHub como respaldo de tu trabajo por si hay que formatear el equipo.\n",
    "8. Usa el comando `pip freeze > requirements.txt` para listar las dependencias del proyecto y facilitar la instalacion a los clientes."
   ]
  },
  {
   "cell_type": "markdown",
   "id": "e351d22e-aa3a-4e16-9a32-0108f98ca388",
   "metadata": {},
   "source": [
    "## Limpieza del proyecto.\n",
    "\n",
    "A medida que vamos desarrollando un proyecto. vamos instalando librerias y estas a su vez instalan dependencias, en este apartado veremos como limpiar el proyecto y entregar los requerimientos exactos para hacer la aplicación mas liviana para los clientes.\n",
    "\n",
    "### Como desinstalar una libreria por completo.\n",
    "\n",
    "Si la libreria no contiene dependencias solo basta aplicar el comando `pip uninstall libreria-a-descartar`, pero si dicha libreria tiene dependencias es mejor aplicar otro metodo:\n",
    "\n",
    "La forma manual:\n",
    "1. `pip show libreria-a-remover`, esto te da informacion de cada una de las dependencias.\n",
    "2. `pip uninstall libreria-a-remover`\n",
    "3. `pip uninstall dependencia1, dependencia2, dependencia3, ...`\n",
    "\n",
    "La forma automatica:\n",
    "1. Instala `pip-autoremove` con el siguiente comando `pip install pip-autoremove`\n",
    "2. Luego desinstala la libreria con sus dependencias asi: `pip-autoremove libreria-a-remover -y`, esto desinstalará la libreria y sus dependencias.\n",
    "\n",
    "### Como desinstalar librerias que no se usaron en el proyecto.\n",
    "\n",
    "Lo ideal seria no llegar a este punto y solo instalar y desinstalar lo que se necesita de forma consciente, pero en caso tal sigue los pasos:\n",
    "\n",
    "1. Instala pipreqs asi: `pip install pipreqs` en el entorno principal de tu equipo.\n",
    "2. genera un archivo de requerimientos asi: `pipreqs ruta/del/proyecto`, esto generará o reemplazará el archivo requirements.txtt \n",
    "3. genera los requerimientos completos de la forma tradicional `pip freeze > all-requerements.txt`, el nombre debe ser diferente\n",
    "4. Compara ambos archivos y anota los que no se repiten, pues estos son las librerias qye estan engordando el proyecto.\n",
    "5. Desinstala de forma manual o automatizada como lo expliqué en el punto anterior."
   ]
  }
 ],
 "metadata": {
  "kernelspec": {
   "display_name": "Python 3 (ipykernel)",
   "language": "python",
   "name": "python3"
  },
  "language_info": {
   "codemirror_mode": {
    "name": "ipython",
    "version": 3
   },
   "file_extension": ".py",
   "mimetype": "text/x-python",
   "name": "python",
   "nbconvert_exporter": "python",
   "pygments_lexer": "ipython3",
   "version": "3.9.2"
  }
 },
 "nbformat": 4,
 "nbformat_minor": 5
}
