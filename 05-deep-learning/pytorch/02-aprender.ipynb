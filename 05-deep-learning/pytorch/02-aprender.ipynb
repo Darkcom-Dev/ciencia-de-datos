{
 "cells": [
  {
   "cell_type": "code",
   "execution_count": 1,
   "metadata": {},
   "outputs": [],
   "source": [
    "import torch\n",
    "import pandas as pd\n",
    "import numpy as np\n",
    "\n",
    "import matplotlib.pyplot as plt\n",
    "import seaborn as sns\n",
    "sns.set_theme(style=\"darkgrid\") # agrega un nuevo tema, para los graficos por defecto"
   ]
  },
  {
   "cell_type": "code",
   "execution_count": 2,
   "metadata": {},
   "outputs": [],
   "source": [
    "df = pd.read_csv('dataset/limpio.csv')"
   ]
  },
  {
   "cell_type": "code",
   "execution_count": 3,
   "metadata": {},
   "outputs": [
    {
     "data": {
      "text/html": [
       "<div>\n",
       "<style scoped>\n",
       "    .dataframe tbody tr th:only-of-type {\n",
       "        vertical-align: middle;\n",
       "    }\n",
       "\n",
       "    .dataframe tbody tr th {\n",
       "        vertical-align: top;\n",
       "    }\n",
       "\n",
       "    .dataframe thead th {\n",
       "        text-align: right;\n",
       "    }\n",
       "</style>\n",
       "<table border=\"1\" class=\"dataframe\">\n",
       "  <thead>\n",
       "    <tr style=\"text-align: right;\">\n",
       "      <th></th>\n",
       "      <th>mpg</th>\n",
       "      <th>cylinders</th>\n",
       "      <th>displacement</th>\n",
       "      <th>horsepower</th>\n",
       "      <th>weight</th>\n",
       "      <th>acceleration</th>\n",
       "      <th>origin</th>\n",
       "      <th>grupo 0</th>\n",
       "      <th>grupo 1</th>\n",
       "    </tr>\n",
       "  </thead>\n",
       "  <tbody>\n",
       "    <tr>\n",
       "      <th>0</th>\n",
       "      <td>15.0</td>\n",
       "      <td>8</td>\n",
       "      <td>350.0</td>\n",
       "      <td>165.0</td>\n",
       "      <td>3693.0</td>\n",
       "      <td>11.5</td>\n",
       "      <td>1</td>\n",
       "      <td>1</td>\n",
       "      <td>0</td>\n",
       "    </tr>\n",
       "    <tr>\n",
       "      <th>1</th>\n",
       "      <td>18.0</td>\n",
       "      <td>8</td>\n",
       "      <td>318.0</td>\n",
       "      <td>150.0</td>\n",
       "      <td>3436.0</td>\n",
       "      <td>11.0</td>\n",
       "      <td>1</td>\n",
       "      <td>1</td>\n",
       "      <td>0</td>\n",
       "    </tr>\n",
       "    <tr>\n",
       "      <th>2</th>\n",
       "      <td>16.0</td>\n",
       "      <td>8</td>\n",
       "      <td>304.0</td>\n",
       "      <td>150.0</td>\n",
       "      <td>3433.0</td>\n",
       "      <td>12.0</td>\n",
       "      <td>1</td>\n",
       "      <td>1</td>\n",
       "      <td>0</td>\n",
       "    </tr>\n",
       "    <tr>\n",
       "      <th>3</th>\n",
       "      <td>17.0</td>\n",
       "      <td>8</td>\n",
       "      <td>302.0</td>\n",
       "      <td>140.0</td>\n",
       "      <td>3449.0</td>\n",
       "      <td>10.5</td>\n",
       "      <td>1</td>\n",
       "      <td>1</td>\n",
       "      <td>0</td>\n",
       "    </tr>\n",
       "    <tr>\n",
       "      <th>4</th>\n",
       "      <td>15.0</td>\n",
       "      <td>8</td>\n",
       "      <td>429.0</td>\n",
       "      <td>198.0</td>\n",
       "      <td>4341.0</td>\n",
       "      <td>10.0</td>\n",
       "      <td>1</td>\n",
       "      <td>1</td>\n",
       "      <td>0</td>\n",
       "    </tr>\n",
       "    <tr>\n",
       "      <th>...</th>\n",
       "      <td>...</td>\n",
       "      <td>...</td>\n",
       "      <td>...</td>\n",
       "      <td>...</td>\n",
       "      <td>...</td>\n",
       "      <td>...</td>\n",
       "      <td>...</td>\n",
       "      <td>...</td>\n",
       "      <td>...</td>\n",
       "    </tr>\n",
       "    <tr>\n",
       "      <th>386</th>\n",
       "      <td>27.0</td>\n",
       "      <td>4</td>\n",
       "      <td>140.0</td>\n",
       "      <td>86.0</td>\n",
       "      <td>2790.0</td>\n",
       "      <td>15.6</td>\n",
       "      <td>1</td>\n",
       "      <td>0</td>\n",
       "      <td>0</td>\n",
       "    </tr>\n",
       "    <tr>\n",
       "      <th>387</th>\n",
       "      <td>44.0</td>\n",
       "      <td>4</td>\n",
       "      <td>97.0</td>\n",
       "      <td>52.0</td>\n",
       "      <td>2130.0</td>\n",
       "      <td>24.6</td>\n",
       "      <td>2</td>\n",
       "      <td>0</td>\n",
       "      <td>0</td>\n",
       "    </tr>\n",
       "    <tr>\n",
       "      <th>388</th>\n",
       "      <td>32.0</td>\n",
       "      <td>4</td>\n",
       "      <td>135.0</td>\n",
       "      <td>84.0</td>\n",
       "      <td>2295.0</td>\n",
       "      <td>11.6</td>\n",
       "      <td>1</td>\n",
       "      <td>0</td>\n",
       "      <td>0</td>\n",
       "    </tr>\n",
       "    <tr>\n",
       "      <th>389</th>\n",
       "      <td>28.0</td>\n",
       "      <td>4</td>\n",
       "      <td>120.0</td>\n",
       "      <td>79.0</td>\n",
       "      <td>2625.0</td>\n",
       "      <td>18.6</td>\n",
       "      <td>1</td>\n",
       "      <td>0</td>\n",
       "      <td>0</td>\n",
       "    </tr>\n",
       "    <tr>\n",
       "      <th>390</th>\n",
       "      <td>31.0</td>\n",
       "      <td>4</td>\n",
       "      <td>119.0</td>\n",
       "      <td>82.0</td>\n",
       "      <td>2720.0</td>\n",
       "      <td>19.4</td>\n",
       "      <td>1</td>\n",
       "      <td>0</td>\n",
       "      <td>0</td>\n",
       "    </tr>\n",
       "  </tbody>\n",
       "</table>\n",
       "<p>391 rows × 9 columns</p>\n",
       "</div>"
      ],
      "text/plain": [
       "      mpg  cylinders  displacement  horsepower  weight  acceleration  origin  \\\n",
       "0    15.0          8         350.0       165.0  3693.0          11.5       1   \n",
       "1    18.0          8         318.0       150.0  3436.0          11.0       1   \n",
       "2    16.0          8         304.0       150.0  3433.0          12.0       1   \n",
       "3    17.0          8         302.0       140.0  3449.0          10.5       1   \n",
       "4    15.0          8         429.0       198.0  4341.0          10.0       1   \n",
       "..    ...        ...           ...         ...     ...           ...     ...   \n",
       "386  27.0          4         140.0        86.0  2790.0          15.6       1   \n",
       "387  44.0          4          97.0        52.0  2130.0          24.6       2   \n",
       "388  32.0          4         135.0        84.0  2295.0          11.6       1   \n",
       "389  28.0          4         120.0        79.0  2625.0          18.6       1   \n",
       "390  31.0          4         119.0        82.0  2720.0          19.4       1   \n",
       "\n",
       "     grupo 0  grupo 1  \n",
       "0          1        0  \n",
       "1          1        0  \n",
       "2          1        0  \n",
       "3          1        0  \n",
       "4          1        0  \n",
       "..       ...      ...  \n",
       "386        0        0  \n",
       "387        0        0  \n",
       "388        0        0  \n",
       "389        0        0  \n",
       "390        0        0  \n",
       "\n",
       "[391 rows x 9 columns]"
      ]
     },
     "execution_count": 3,
     "metadata": {},
     "output_type": "execute_result"
    }
   ],
   "source": [
    "df"
   ]
  },
  {
   "cell_type": "code",
   "execution_count": 4,
   "metadata": {},
   "outputs": [
    {
     "data": {
      "text/html": [
       "<div>\n",
       "<style scoped>\n",
       "    .dataframe tbody tr th:only-of-type {\n",
       "        vertical-align: middle;\n",
       "    }\n",
       "\n",
       "    .dataframe tbody tr th {\n",
       "        vertical-align: top;\n",
       "    }\n",
       "\n",
       "    .dataframe thead th {\n",
       "        text-align: right;\n",
       "    }\n",
       "</style>\n",
       "<table border=\"1\" class=\"dataframe\">\n",
       "  <thead>\n",
       "    <tr style=\"text-align: right;\">\n",
       "      <th></th>\n",
       "      <th>mpg</th>\n",
       "      <th>cylinders</th>\n",
       "      <th>displacement</th>\n",
       "      <th>horsepower</th>\n",
       "      <th>weight</th>\n",
       "      <th>acceleration</th>\n",
       "      <th>grupo 0</th>\n",
       "      <th>grupo 1</th>\n",
       "    </tr>\n",
       "  </thead>\n",
       "  <tbody>\n",
       "    <tr>\n",
       "      <th>0</th>\n",
       "      <td>15.0</td>\n",
       "      <td>8</td>\n",
       "      <td>350.0</td>\n",
       "      <td>165.0</td>\n",
       "      <td>3693.0</td>\n",
       "      <td>11.5</td>\n",
       "      <td>1</td>\n",
       "      <td>0</td>\n",
       "    </tr>\n",
       "    <tr>\n",
       "      <th>1</th>\n",
       "      <td>18.0</td>\n",
       "      <td>8</td>\n",
       "      <td>318.0</td>\n",
       "      <td>150.0</td>\n",
       "      <td>3436.0</td>\n",
       "      <td>11.0</td>\n",
       "      <td>1</td>\n",
       "      <td>0</td>\n",
       "    </tr>\n",
       "    <tr>\n",
       "      <th>2</th>\n",
       "      <td>16.0</td>\n",
       "      <td>8</td>\n",
       "      <td>304.0</td>\n",
       "      <td>150.0</td>\n",
       "      <td>3433.0</td>\n",
       "      <td>12.0</td>\n",
       "      <td>1</td>\n",
       "      <td>0</td>\n",
       "    </tr>\n",
       "    <tr>\n",
       "      <th>3</th>\n",
       "      <td>17.0</td>\n",
       "      <td>8</td>\n",
       "      <td>302.0</td>\n",
       "      <td>140.0</td>\n",
       "      <td>3449.0</td>\n",
       "      <td>10.5</td>\n",
       "      <td>1</td>\n",
       "      <td>0</td>\n",
       "    </tr>\n",
       "    <tr>\n",
       "      <th>4</th>\n",
       "      <td>15.0</td>\n",
       "      <td>8</td>\n",
       "      <td>429.0</td>\n",
       "      <td>198.0</td>\n",
       "      <td>4341.0</td>\n",
       "      <td>10.0</td>\n",
       "      <td>1</td>\n",
       "      <td>0</td>\n",
       "    </tr>\n",
       "    <tr>\n",
       "      <th>...</th>\n",
       "      <td>...</td>\n",
       "      <td>...</td>\n",
       "      <td>...</td>\n",
       "      <td>...</td>\n",
       "      <td>...</td>\n",
       "      <td>...</td>\n",
       "      <td>...</td>\n",
       "      <td>...</td>\n",
       "    </tr>\n",
       "    <tr>\n",
       "      <th>386</th>\n",
       "      <td>27.0</td>\n",
       "      <td>4</td>\n",
       "      <td>140.0</td>\n",
       "      <td>86.0</td>\n",
       "      <td>2790.0</td>\n",
       "      <td>15.6</td>\n",
       "      <td>0</td>\n",
       "      <td>0</td>\n",
       "    </tr>\n",
       "    <tr>\n",
       "      <th>387</th>\n",
       "      <td>44.0</td>\n",
       "      <td>4</td>\n",
       "      <td>97.0</td>\n",
       "      <td>52.0</td>\n",
       "      <td>2130.0</td>\n",
       "      <td>24.6</td>\n",
       "      <td>0</td>\n",
       "      <td>0</td>\n",
       "    </tr>\n",
       "    <tr>\n",
       "      <th>388</th>\n",
       "      <td>32.0</td>\n",
       "      <td>4</td>\n",
       "      <td>135.0</td>\n",
       "      <td>84.0</td>\n",
       "      <td>2295.0</td>\n",
       "      <td>11.6</td>\n",
       "      <td>0</td>\n",
       "      <td>0</td>\n",
       "    </tr>\n",
       "    <tr>\n",
       "      <th>389</th>\n",
       "      <td>28.0</td>\n",
       "      <td>4</td>\n",
       "      <td>120.0</td>\n",
       "      <td>79.0</td>\n",
       "      <td>2625.0</td>\n",
       "      <td>18.6</td>\n",
       "      <td>0</td>\n",
       "      <td>0</td>\n",
       "    </tr>\n",
       "    <tr>\n",
       "      <th>390</th>\n",
       "      <td>31.0</td>\n",
       "      <td>4</td>\n",
       "      <td>119.0</td>\n",
       "      <td>82.0</td>\n",
       "      <td>2720.0</td>\n",
       "      <td>19.4</td>\n",
       "      <td>0</td>\n",
       "      <td>0</td>\n",
       "    </tr>\n",
       "  </tbody>\n",
       "</table>\n",
       "<p>391 rows × 8 columns</p>\n",
       "</div>"
      ],
      "text/plain": [
       "      mpg  cylinders  displacement  horsepower  weight  acceleration  grupo 0  \\\n",
       "0    15.0          8         350.0       165.0  3693.0          11.5        1   \n",
       "1    18.0          8         318.0       150.0  3436.0          11.0        1   \n",
       "2    16.0          8         304.0       150.0  3433.0          12.0        1   \n",
       "3    17.0          8         302.0       140.0  3449.0          10.5        1   \n",
       "4    15.0          8         429.0       198.0  4341.0          10.0        1   \n",
       "..    ...        ...           ...         ...     ...           ...      ...   \n",
       "386  27.0          4         140.0        86.0  2790.0          15.6        0   \n",
       "387  44.0          4          97.0        52.0  2130.0          24.6        0   \n",
       "388  32.0          4         135.0        84.0  2295.0          11.6        0   \n",
       "389  28.0          4         120.0        79.0  2625.0          18.6        0   \n",
       "390  31.0          4         119.0        82.0  2720.0          19.4        0   \n",
       "\n",
       "     grupo 1  \n",
       "0          0  \n",
       "1          0  \n",
       "2          0  \n",
       "3          0  \n",
       "4          0  \n",
       "..       ...  \n",
       "386        0  \n",
       "387        0  \n",
       "388        0  \n",
       "389        0  \n",
       "390        0  \n",
       "\n",
       "[391 rows x 8 columns]"
      ]
     },
     "execution_count": 4,
     "metadata": {},
     "output_type": "execute_result"
    }
   ],
   "source": [
    "X = pd.concat([df.iloc[:, :6], df.iloc[:, 7:]], axis=1)\n",
    "X"
   ]
  },
  {
   "cell_type": "code",
   "execution_count": 5,
   "metadata": {},
   "outputs": [
    {
     "data": {
      "text/plain": [
       "0      1\n",
       "1      1\n",
       "2      1\n",
       "3      1\n",
       "4      1\n",
       "      ..\n",
       "386    1\n",
       "387    2\n",
       "388    1\n",
       "389    1\n",
       "390    1\n",
       "Name: origin, Length: 391, dtype: int64"
      ]
     },
     "execution_count": 5,
     "metadata": {},
     "output_type": "execute_result"
    }
   ],
   "source": [
    "y = df['origin']\n",
    "y"
   ]
  },
  {
   "cell_type": "code",
   "execution_count": 6,
   "metadata": {},
   "outputs": [
    {
     "name": "stdout",
     "output_type": "stream",
     "text": [
      "X_train:  <class 'str'>\n"
     ]
    },
    {
     "data": {
      "text/html": [
       "<div>\n",
       "<style scoped>\n",
       "    .dataframe tbody tr th:only-of-type {\n",
       "        vertical-align: middle;\n",
       "    }\n",
       "\n",
       "    .dataframe tbody tr th {\n",
       "        vertical-align: top;\n",
       "    }\n",
       "\n",
       "    .dataframe thead th {\n",
       "        text-align: right;\n",
       "    }\n",
       "</style>\n",
       "<table border=\"1\" class=\"dataframe\">\n",
       "  <thead>\n",
       "    <tr style=\"text-align: right;\">\n",
       "      <th></th>\n",
       "      <th>mpg</th>\n",
       "      <th>cylinders</th>\n",
       "      <th>displacement</th>\n",
       "      <th>horsepower</th>\n",
       "      <th>weight</th>\n",
       "      <th>acceleration</th>\n",
       "      <th>grupo 0</th>\n",
       "      <th>grupo 1</th>\n",
       "    </tr>\n",
       "  </thead>\n",
       "  <tbody>\n",
       "    <tr>\n",
       "      <th>341</th>\n",
       "      <td>32.3</td>\n",
       "      <td>4</td>\n",
       "      <td>97.0</td>\n",
       "      <td>67.0</td>\n",
       "      <td>2065.0</td>\n",
       "      <td>17.8</td>\n",
       "      <td>0</td>\n",
       "      <td>0</td>\n",
       "    </tr>\n",
       "    <tr>\n",
       "      <th>277</th>\n",
       "      <td>21.5</td>\n",
       "      <td>6</td>\n",
       "      <td>231.0</td>\n",
       "      <td>115.0</td>\n",
       "      <td>3245.0</td>\n",
       "      <td>15.4</td>\n",
       "      <td>0</td>\n",
       "      <td>1</td>\n",
       "    </tr>\n",
       "    <tr>\n",
       "      <th>387</th>\n",
       "      <td>44.0</td>\n",
       "      <td>4</td>\n",
       "      <td>97.0</td>\n",
       "      <td>52.0</td>\n",
       "      <td>2130.0</td>\n",
       "      <td>24.6</td>\n",
       "      <td>0</td>\n",
       "      <td>0</td>\n",
       "    </tr>\n",
       "    <tr>\n",
       "      <th>11</th>\n",
       "      <td>15.0</td>\n",
       "      <td>8</td>\n",
       "      <td>400.0</td>\n",
       "      <td>150.0</td>\n",
       "      <td>3761.0</td>\n",
       "      <td>9.5</td>\n",
       "      <td>1</td>\n",
       "      <td>0</td>\n",
       "    </tr>\n",
       "    <tr>\n",
       "      <th>170</th>\n",
       "      <td>24.0</td>\n",
       "      <td>4</td>\n",
       "      <td>119.0</td>\n",
       "      <td>97.0</td>\n",
       "      <td>2545.0</td>\n",
       "      <td>17.0</td>\n",
       "      <td>1</td>\n",
       "      <td>0</td>\n",
       "    </tr>\n",
       "  </tbody>\n",
       "</table>\n",
       "</div>"
      ],
      "text/plain": [
       "      mpg  cylinders  displacement  horsepower  weight  acceleration  grupo 0  \\\n",
       "341  32.3          4          97.0        67.0  2065.0          17.8        0   \n",
       "277  21.5          6         231.0       115.0  3245.0          15.4        0   \n",
       "387  44.0          4          97.0        52.0  2130.0          24.6        0   \n",
       "11   15.0          8         400.0       150.0  3761.0           9.5        1   \n",
       "170  24.0          4         119.0        97.0  2545.0          17.0        1   \n",
       "\n",
       "     grupo 1  \n",
       "341        0  \n",
       "277        1  \n",
       "387        0  \n",
       "11         0  \n",
       "170        0  "
      ]
     },
     "execution_count": 6,
     "metadata": {},
     "output_type": "execute_result"
    }
   ],
   "source": [
    "from sklearn.model_selection import train_test_split\n",
    "\n",
    "X_train, X_test, y_train, y_test = train_test_split(X, y, train_size=0.8, stratify=y, random_state= 1)\n",
    "print('X_train: ', type('X_train'))\n",
    "X_train.head(5)"
   ]
  },
  {
   "cell_type": "code",
   "execution_count": 7,
   "metadata": {},
   "outputs": [
    {
     "name": "stdout",
     "output_type": "stream",
     "text": [
      "X_train_stad:  <class 'str'>\n"
     ]
    }
   ],
   "source": [
    "from sklearn.preprocessing import StandardScaler\n",
    "\n",
    "sc = StandardScaler()\n",
    "X_train_stad = sc.fit_transform(X_train.iloc[:, :6]) \n",
    "X_test_stad = sc.transform(X_test.iloc[:, :6]) \n",
    "print('X_train_stad: ', type('X_train_stad'))\n",
    "\n",
    "X_train_stad = np.concatenate([X_train_stad, X_train.iloc[:, 7:].values], axis=1)\n",
    "X_test_stad = np.concatenate([X_test_stad, X_test.iloc[:, 7:].values], axis=1)\n",
    "\n"
   ]
  },
  {
   "cell_type": "code",
   "execution_count": 8,
   "metadata": {},
   "outputs": [
    {
     "data": {
      "text/plain": [
       "(312, 7)"
      ]
     },
     "execution_count": 8,
     "metadata": {},
     "output_type": "execute_result"
    }
   ],
   "source": [
    "X_train_stad.shape"
   ]
  },
  {
   "cell_type": "code",
   "execution_count": 9,
   "metadata": {},
   "outputs": [],
   "source": [
    "# no se porque tuve que hacer esto\n",
    "y_test = np.array(y_test)"
   ]
  },
  {
   "cell_type": "code",
   "execution_count": 10,
   "metadata": {},
   "outputs": [],
   "source": [
    "X_train_stad = torch.as_tensor(X_train_stad, dtype=torch.float32)\n",
    "X_test_stad = torch.as_tensor(X_test_stad, dtype=torch.float32)\n",
    "y_train = torch.as_tensor(y_train, dtype=torch.int64)\n",
    "y_test = torch.as_tensor(y_test, dtype=torch.int64)"
   ]
  },
  {
   "cell_type": "code",
   "execution_count": 11,
   "metadata": {},
   "outputs": [
    {
     "data": {
      "text/plain": [
       "torch.Size([312, 7])"
      ]
     },
     "execution_count": 11,
     "metadata": {},
     "output_type": "execute_result"
    }
   ],
   "source": [
    "X_train_stad.shape"
   ]
  },
  {
   "cell_type": "code",
   "execution_count": 12,
   "metadata": {},
   "outputs": [
    {
     "data": {
      "text/plain": [
       "torch.Size([312])"
      ]
     },
     "execution_count": 12,
     "metadata": {},
     "output_type": "execute_result"
    }
   ],
   "source": [
    "y_train.shape"
   ]
  },
  {
   "cell_type": "code",
   "execution_count": 13,
   "metadata": {},
   "outputs": [
    {
     "data": {
      "text/plain": [
       "tensor([1, 2, 1, 0, 1, 2, 2, 0, 1, 1, 0, 0, 0, 0, 0, 0, 0, 0, 0, 2, 0, 0, 1, 0,\n",
       "        1, 1, 0, 1, 2, 0, 0, 0, 2, 0, 2, 1, 0, 2, 0, 2, 0, 1, 1, 0, 0, 0, 0, 2,\n",
       "        2, 0, 0, 0, 0, 1, 2, 2, 0, 0, 0, 0, 0, 0, 0, 0, 2, 2, 0, 0, 0, 0, 2, 0,\n",
       "        0, 0, 0, 1, 0, 0, 0])"
      ]
     },
     "execution_count": 13,
     "metadata": {},
     "output_type": "execute_result"
    }
   ],
   "source": [
    "y_train = y_train -1  # deben iniciar desde 0\n",
    "y_train\n",
    "\n",
    "y_test = y_test -1 # deben iniciar desde 0\n",
    "y_test"
   ]
  },
  {
   "cell_type": "code",
   "execution_count": 14,
   "metadata": {},
   "outputs": [],
   "source": [
    "from torch.utils.data import TensorDataset\n",
    "\n",
    "train = TensorDataset(X_train_stad, y_train)"
   ]
  },
  {
   "cell_type": "code",
   "execution_count": 15,
   "metadata": {},
   "outputs": [],
   "source": [
    "from torch.utils.data import DataLoader\n",
    "\n",
    "batch_size = 6\n",
    "torch.manual_seed =1\n",
    "\n",
    "train_dl = DataLoader(train, batch_size, shuffle=True)"
   ]
  },
  {
   "cell_type": "code",
   "execution_count": 16,
   "metadata": {},
   "outputs": [
    {
     "data": {
      "text/plain": [
       "Sequential(\n",
       "  (0): Linear(in_features=7, out_features=7, bias=True)\n",
       "  (1): ReLU()\n",
       "  (2): Linear(in_features=7, out_features=3, bias=True)\n",
       "  (3): Softmax(dim=1)\n",
       ")"
      ]
     },
     "execution_count": 16,
     "metadata": {},
     "output_type": "execute_result"
    }
   ],
   "source": [
    "import torch.nn as nn\n",
    "\n",
    "model = nn.Sequential(nn.Linear(7,7), nn.ReLU(),\n",
    "                      nn.Linear(7,3), nn.Softmax(dim=1))\n",
    "model"
   ]
  },
  {
   "cell_type": "code",
   "execution_count": 17,
   "metadata": {},
   "outputs": [],
   "source": [
    "loss_fn  = nn.CrossEntropyLoss() # las etiquetas deben comenzar desde cero hasta n-1 etiquetas\n",
    "optimizer = torch.optim.SGD(model.parameters(), lr=0.01, momentum= 0.7)"
   ]
  },
  {
   "cell_type": "code",
   "execution_count": 18,
   "metadata": {},
   "outputs": [
    {
     "data": {
      "text/plain": [
       "\"\\ndef l1_penalty(model, l1_weight):\\n    l1_reg = 0\\n    for name, param in model.named_parameters():\\n        if 'weight' in name:\\n            l1_reg += torch.norm(param, 1)\\n    return l1_weight * l1_reg\\n\\n\""
      ]
     },
     "execution_count": 18,
     "metadata": {},
     "output_type": "execute_result"
    }
   ],
   "source": [
    "# si se inicializa los pesos con valores aleatorios, eso fectara los resultados asi se designe una semilla\n",
    "\n",
    "#def initialize_weights(layer):\n",
    "#    if isinstance(layer, nn.Linear):\n",
    "#        nn.init.xavier_uniform_(layer.weight)\n",
    "\n",
    "\"\"\"\n",
    "def l1_penalty(model, l1_weight):\n",
    "    l1_reg = 0\n",
    "    for name, param in model.named_parameters():\n",
    "        if 'weight' in name:\n",
    "            l1_reg += torch.norm(param, 1)\n",
    "    return l1_weight * l1_reg\n",
    "\n",
    "\"\"\""
   ]
  },
  {
   "cell_type": "code",
   "execution_count": 19,
   "metadata": {},
   "outputs": [],
   "source": [
    "# Aplicar inicialización Xavier a todas las capas\n",
    "#model.apply(initialize_weights)\n",
    "\n",
    "# Calcular la penalización L1 para todos los pesos de las capas\n",
    "#l1_weight = 0.01\n",
    "#l1_loss = l1_penalty(model, l1_weight)\n"
   ]
  },
  {
   "cell_type": "code",
   "execution_count": 20,
   "metadata": {},
   "outputs": [
    {
     "ename": "NameError",
     "evalue": "name 'asdasd' is not defined",
     "output_type": "error",
     "traceback": [
      "\u001b[1;31m---------------------------------------------------------------------------\u001b[0m",
      "\u001b[1;31mNameError\u001b[0m                                 Traceback (most recent call last)",
      "Cell \u001b[1;32mIn[20], line 1\u001b[0m\n\u001b[1;32m----> 1\u001b[0m \u001b[43masdasd\u001b[49m\n",
      "\u001b[1;31mNameError\u001b[0m: name 'asdasd' is not defined"
     ]
    }
   ],
   "source": [
    "asdasd"
   ]
  },
  {
   "cell_type": "code",
   "execution_count": null,
   "metadata": {},
   "outputs": [],
   "source": [
    "#Algoritmo 1\n",
    "\n",
    "num_epochs = 200\n",
    "\n",
    "def train(model, num_epochs, train_dl, x_valid, y_valid):\n",
    "    loss_hist_train = [0] * num_epochs\n",
    "    loss_hist_valid = [0] * num_epochs\n",
    "\n",
    "    accuracy_hist_train = [0] * num_epochs\n",
    "    accuracy_hist_valid = [0] * num_epochs\n",
    "\n",
    "    for epoch in range(num_epochs):\n",
    "        for x_batch, y_batch in train_dl:\n",
    "\n",
    "            # fordward pass\n",
    "            pred = model(x_batch)\n",
    "            # calcular perdida\n",
    "            loss = loss_fn(pred, y_batch)\n",
    "            # retropropagacion \n",
    "            loss.backward()\n",
    "            # actualizacion de pesos a traves del gradiente\n",
    "            optimizer.step()\n",
    "            # reinicializar los pesos\n",
    "            optimizer.zero_grad()\n",
    "\n",
    "            # error en el train\n",
    "            loss_hist_train[epoch] += loss.item()\n",
    "\n",
    "            # exactitud en el train\n",
    "            _, predicted = torch.max(pred, 1)\n",
    "            is_correct = (predicted == y_batch)\n",
    "            accuracy_hist_train[epoch] += is_correct.float().mean()\n",
    "\n",
    "        # se halla el promedio\n",
    "        loss_hist_train[epoch] /= len(train_dl)\n",
    "        accuracy_hist_train[epoch] /= len(train_dl)\n",
    "       \n",
    "        pred = model(x_valid)\n",
    "        loss= loss_fn(pred, y_valid)\n",
    "\n",
    "        # error en el test\n",
    "        loss_hist_valid[epoch] += loss.item()\n",
    "\n",
    "        # exactitud en el test \n",
    "        _, predicted = torch.max(pred, 1)\n",
    "        is_correct = (predicted == y_valid).float()\n",
    "        accuracy_hist_valid[epoch] += is_correct.float().mean()\n",
    "\n",
    "\n",
    "    return loss_hist_train, loss_hist_valid, accuracy_hist_train, accuracy_hist_valid\n",
    "\n",
    "history = train(model, num_epochs, train_dl, X_test_stad, y_test)"
   ]
  },
  {
   "cell_type": "code",
   "execution_count": null,
   "metadata": {},
   "outputs": [
    {
     "data": {
      "text/plain": [
       "Text(0.5, 0, 'Epocas')"
      ]
     },
     "execution_count": 22,
     "metadata": {},
     "output_type": "execute_result"
    },
    {
     "data": {
      "image/png": "[encoded data removed]",
      "text/plain": [
       "<Figure size 1600x400 with 2 Axes>"
      ]
     },
     "metadata": {},
     "output_type": "display_data"
    }
   ],
   "source": [
    "fig = plt.figure(figsize=(16, 4))\n",
    "ax = fig.add_subplot(1, 2, 1)\n",
    "plt.plot(history[0], lw=4)\n",
    "plt.plot(history[1], lw=4)\n",
    "plt.legend(['perdida entrenamiento', 'perdida validación'], fontsize=15)\n",
    "ax.set_xlabel('Epocas', size=15)\n",
    "\n",
    "ax = fig.add_subplot(1, 2, 2)\n",
    "plt.plot(history[2], lw=4)\n",
    "plt.plot(history[3], lw=4)\n",
    "plt.legend(['exactitud validación.', 'exactitud entrenamiento.'], fontsize=15)\n",
    "ax.set_xlabel('Epocas', size=15)"
   ]
  },
  {
   "cell_type": "code",
   "execution_count": null,
   "metadata": {},
   "outputs": [],
   "source": [
    "asdsad"
   ]
  },
  {
   "cell_type": "code",
   "execution_count": 21,
   "metadata": {},
   "outputs": [],
   "source": [
    "test = TensorDataset(X_test_stad, y_test)\n",
    "\n",
    "test_dl = DataLoader(train)"
   ]
  },
  {
   "cell_type": "code",
   "execution_count": 22,
   "metadata": {},
   "outputs": [],
   "source": [
    "#Algoritmo 2\n",
    "\n",
    "# Entrenamiento durante 2 épocas\n",
    "num_epochs = 200\n",
    "loss_hist = []\n",
    "accuracy_hist = []\n",
    "test_loss_hist = []\n",
    "test_accuracy_hist = []\n",
    "\n",
    "for epoch in range(num_epochs):\n",
    "    running_loss = 0.0\n",
    "    correct_predictions = 0\n",
    "    total_predictions = 0\n",
    "    \n",
    "    # Entrenamiento\n",
    "    model.train()  # Configurar el modelo en modo de entrenamiento\n",
    "    for inputs, labels in train_dl:\n",
    "\n",
    "        # fordward pass\n",
    "        pred = model(inputs)\n",
    "        # calcular perdida\n",
    "        loss = loss_fn(pred, labels)\n",
    "        # retropropagacion \n",
    "        loss.backward()\n",
    "        # actualizacion de pesos a traves del gradiente\n",
    "        optimizer.step()\n",
    "        # reinicializar los pesos\n",
    "        optimizer.zero_grad()\n",
    "\n",
    "        # error en el train\n",
    "        running_loss += loss.item()\n",
    "\n",
    "        # exactitud en el train\n",
    "        _, predicted = torch.max(pred, 1)\n",
    "        correct_predictions += (predicted == labels).sum().item()\n",
    "\n",
    "                \n",
    "        \n",
    "    # se halla el promedio\n",
    "    epoch_loss = running_loss / len(train_dl)\n",
    "    loss_hist.append(epoch_loss)\n",
    "\n",
    "    # se halla el promedio\n",
    "    epoch_accuracy = correct_predictions / len(test_dl)\n",
    "    accuracy_hist.append(epoch_accuracy)\n",
    "    \n",
    "    # Evaluación en datos de prueba\n",
    "    model.eval()  # Configurar el modelo en modo de evaluación\n",
    "    \n",
    "    test_running_loss = 0.0\n",
    "    test_correct_predictions = 0\n",
    "    test_total_predictions = 0\n",
    "\n",
    "    with torch.no_grad():  # Desactivar el cálculo de gradientes durante la evaluación\n",
    "        for inputs, labels in test_dl:  # Suponiendo que tienes un DataLoader llamado test_dl\n",
    "            \n",
    "            # fordward pass\n",
    "            pred = model(inputs)\n",
    "            # calcular perdida\n",
    "            test_loss = loss_fn(pred, labels)\n",
    "\n",
    "            # exactitud en el test\n",
    "            _, test_predicted = torch.max(pred, 1)\n",
    "            test_correct_predictions += (test_predicted == labels).sum().item()\n",
    "\n",
    "            # error en el test\n",
    "            test_running_loss += test_loss.item()\n",
    "\n",
    "    # se halla el promedio\n",
    "    test_epoch_accuracy = test_correct_predictions / len(test_dl)\n",
    "    test_loss_hist.append(test_epoch_loss)\n",
    "    \n",
    "    # se halla el promedio\n",
    "    test_epoch_loss = test_running_loss / len(test_dl)\n",
    "    test_accuracy_hist.append(test_epoch_accuracy)\n",
    "    \n",
    "    #print(f\"Epoch [{epoch+1}/{num_epochs}], Train Loss: {epoch_loss}, Train Accuracy: {epoch_accuracy},\n",
    "    #       Test Loss: {test_epoch_loss}, Test Accuracy: {test_epoch_accuracy}\")   \n"
   ]
  },
  {
   "cell_type": "code",
   "execution_count": 23,
   "metadata": {},
   "outputs": [
    {
     "data": {
      "image/png": "[encoded data removed]",
      "text/plain": [
       "<Figure size 1200x500 with 2 Axes>"
      ]
     },
     "metadata": {},
     "output_type": "display_data"
    }
   ],
   "source": [
    "fig = plt.figure(figsize=(12, 5))\n",
    "ax = fig.add_subplot(1, 2, 1)\n",
    "ax.plot(loss_hist, lw=3)\n",
    "ax.plot(test_loss_hist, lw=3)\n",
    "plt.legend(['Ejemplos de entrenamiento', 'evaluación.'], fontsize=15)\n",
    "ax.set_title('Perdida entrenamiento', size=15)\n",
    "ax.set_xlabel('Epocas', size=15)\n",
    "ax.tick_params(axis='both', which='major', labelsize=15)\n",
    "\n",
    "ax = fig.add_subplot(1, 2, 2)\n",
    "ax.plot(accuracy_hist, lw=3)\n",
    "ax.plot(test_accuracy_hist, lw=3)\n",
    "plt.legend(['Ejemplos de entrenamiento', 'validación.'], fontsize=15)\n",
    "ax.set_title('Exactitud entrenamiento', size=15)\n",
    "ax.set_xlabel('epocas', size=15)\n",
    "ax.tick_params(axis='both', which='major', labelsize=15)\n",
    "plt.show()"
   ]
  },
  {
   "cell_type": "markdown",
   "metadata": {},
   "source": [
    "\n",
    "Los dos algoritmos tienen el mismo propósito: entrenar un modelo y registrar la pérdida y la exactitud a lo largo de las épocas tanto en los datos de entrenamiento como en los de validación. Sin embargo, hay algunas diferencias en la implementación que podrían llevar a resultados ligeramente diferentes:\n",
    "\n",
    "1-Cálculo de pérdida y exactitud: En el primer algoritmo, la pérdida y la exactitud se calculan dentro del bucle de entrenamiento y luego se promedian sobre todas las muestras del conjunto de entrenamiento (train_dl). En el segundo algoritmo, la pérdida y la exactitud se calculan tanto para el conjunto de entrenamiento como para el de validación en cada época por separado.\n",
    "\n",
    "2-Modo de entrenamiento y evaluación: El segundo algoritmo utiliza model.train() y model.eval() para alternar entre el modo de entrenamiento y el de evaluación, mientras que el primer algoritmo no lo hace. Esto afecta a capas como Dropout y BatchNorm, que se comportan de manera diferente en cada modo.\n",
    "\n",
    "3-Optimización de GPU: Si estás utilizando GPU para entrenar tu modelo, ten en cuenta que los cálculos en la GPU pueden no ser completamente deterministas, lo que podría resultar en resultados ligeramente diferentes entre ejecuciones.\n",
    "\n",
    "4-Inicialización de pesos aleatorios: Si tu modelo utiliza inicialización de pesos aleatorios y no se inicializan explícitamente con una semilla fija, los pesos se inicializarán de manera diferente en cada ejecución.\n",
    "\n",
    "Para asegurar una mayor consistencia entre los resultados de los dos algoritmos, asegúrate de que:\n",
    "\n",
    "- Utilizas la misma semilla aleatoria para inicializar el generador de números aleatorios al principio de tu código.\n",
    "\n",
    "- Consideras el efecto de las capas de Dropout y BatchNorm al cambiar entre el modo de entrenamiento y el de evaluación.\n",
    "\n",
    "- Inicializas explícitamente los pesos de tu modelo con una semilla fija si es necesario.\n",
    "\n",
    "- Tienes en cuenta el posible efecto de la optimización de GPU en la reproducibilidad de los resultados.\n",
    "\n",
    "- Al tomar estas consideraciones, deberías ser capaz de obtener resultados más consistentes entre los dos algoritmos."
   ]
  },
  {
   "cell_type": "markdown",
   "metadata": {},
   "source": [
    "Ambas metodologías tienen sus ventajas y desventajas, y la elección entre una u otra depende del contexto específico y los requisitos del problema en cuestión. Aquí hay algunas consideraciones:\n",
    "\n",
    "**Metodología del Algoritmo 1:**\n",
    "\n",
    "*Ventajas:*\n",
    "\n",
    "-Calcula la pérdida y la exactitud de manera acumulativa a lo largo de cada época, lo que puede ser útil para monitorear el progreso del entrenamiento.\n",
    "\n",
    "-Utiliza promedios sobre el conjunto de entrenamiento, lo que puede ser más estable si las muestras de entrenamiento varían en tamaño o dificultad.\n",
    "\n",
    "*Desventajas:*\n",
    "\n",
    "-No considera explícitamente los datos de validación durante el entrenamiento, lo que puede llevar a una optimización subóptima del modelo.\n",
    "\n",
    "-No cambia entre los modos de entrenamiento y evaluación, lo que puede llevar a resultados sesgados si el modelo incluye capas como Dropout o BatchNorm.\n",
    "\n",
    "**Metodología del Algoritmo 2:**\n",
    "\n",
    "Ventajas:**\n",
    "\n",
    "-Calcula la pérdida y la exactitud tanto para el conjunto de entrenamiento como para el de validación en cada época, lo que proporciona una evaluación más completa del rendimiento del modelo.\n",
    "\n",
    "-Cambia entre los modos de entrenamiento y evaluación, lo que asegura que el modelo se esté evaluando de manera adecuada durante la validación.\n",
    "\n",
    "*Desventajas:*\n",
    "\n",
    "-Puede ser más propenso a sobreajuste si el conjunto de entrenamiento y el de validación son muy diferentes, ya que el modelo se adapta directamente a los datos de validación durante el entrenamiento.\n",
    "\n",
    "-Puede ser menos eficiente computacionalmente debido a la necesidad de evaluar el modelo en el conjunto de validación en cada época.\n",
    "\n",
    "En resumen, si la estabilidad y la simplicidad son prioritarias y no hay preocupaciones significativas sobre el sobreajuste, la metodología del Algoritmo 1 podría ser preferible. Sin embargo, si se necesita una evaluación más completa del rendimiento del modelo y se desea evitar el sobreajuste, la metodología del Algoritmo 2 podría ser más adecuada. Es importante considerar las necesidades específicas del problema y las limitaciones computacionales al tomar una decisión."
   ]
  }
 ],
 "metadata": {
  "kernelspec": {
   "display_name": "Python 3",
   "language": "python",
   "name": "python3"
  },
  "language_info": {
   "codemirror_mode": {
    "name": "ipython",
    "version": 3
   },
   "file_extension": ".py",
   "mimetype": "text/x-python",
   "name": "python",
   "nbconvert_exporter": "python",
   "pygments_lexer": "ipython3",
   "version": "3.12.2"
  }
 },
 "nbformat": 4,
 "nbformat_minor": 2
}
